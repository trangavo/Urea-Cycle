{
  "nbformat": 4,
  "nbformat_minor": 0,
  "metadata": {
    "kernelspec": {
      "display_name": "Python 3",
      "language": "python",
      "name": "python3"
    },
    "language_info": {
      "codemirror_mode": {
        "name": "ipython",
        "version": 3
      },
      "file_extension": ".py",
      "mimetype": "text/x-python",
      "name": "python",
      "nbconvert_exporter": "python",
      "pygments_lexer": "ipython3",
      "version": "3.6.13"
    },
    "colab": {
      "name": "FINAL UREA.ipynb",
      "provenance": [],
      "toc_visible": true,
      "include_colab_link": true
    }
  },
  "cells": [
    {
      "cell_type": "markdown",
      "metadata": {
        "id": "view-in-github",
        "colab_type": "text"
      },
      "source": [
        "<a href=\"https://colab.research.google.com/github/trangavo/Urea-Cycle/blob/main/FINAL_UREA.ipynb\" target=\"_parent\"><img src=\"https://colab.research.google.com/assets/colab-badge.svg\" alt=\"Open In Colab\"/></a>"
      ]
    },
    {
      "cell_type": "markdown",
      "metadata": {
        "id": "wkYiec-O8gnw"
      },
      "source": [
        "# References:\n",
        "\n",
        "- 2. Constructing Models—MASSpy 0.1.1 documentation. (n.d.). Retrieved April 11, 2021, from https://masspy.readthedocs.io/en/stable/tutorials/constructing_models.html\n",
        "\n",
        "- 10. Glycolysis—MASSpy 0.1.1 documentation. (n.d.). Retrieved April 11, 2021, from https://masspy.readthedocs.io/en/stable/education/sb2/chapters/sb2_chapter10.html#Defining-the-Steady-State\n",
        "\n",
        "- MetaCyc urea cycle. (n.d.). Retrieved April 11, 2021, from https://metacyc.org/META/NEW-IMAGE?type=PATHWAY&object=PWY-4984&detail-level=4\n",
        "\n",
        "- Phosphofructokinase (PFK) Model Construction—MASSpy 0.1.1 documentation. (n.d.). Retrieved April 27, 2021, from https://masspy.readthedocs.io/en/stable/education/sb2/model_construction/sb2_pfk.html"
      ]
    },
    {
      "cell_type": "markdown",
      "metadata": {
        "id": "hxC7pDBg8gn0"
      },
      "source": [
        "# Import packages"
      ]
    },
    {
      "cell_type": "code",
      "metadata": {
        "id": "TrwxthF28gn1",
        "colab": {
          "base_uri": "https://localhost:8080/"
        },
        "outputId": "23074892-e2e0-4879-dae7-6cf38819ca7a"
      },
      "source": [
        "!pip install masspy"
      ],
      "execution_count": 75,
      "outputs": [
        {
          "output_type": "stream",
          "text": [
            "Requirement already satisfied: masspy in /usr/local/lib/python3.7/dist-packages (0.1.1)\n",
            "Requirement already satisfied: scipy~=1.2 in /usr/local/lib/python3.7/dist-packages (from masspy) (1.4.1)\n",
            "Requirement already satisfied: depinfo~=1.5 in /usr/local/lib/python3.7/dist-packages (from masspy) (1.7.0)\n",
            "Requirement already satisfied: tabulate~=0.8 in /usr/local/lib/python3.7/dist-packages (from masspy) (0.8.9)\n",
            "Requirement already satisfied: escher~=1.7 in /usr/local/lib/python3.7/dist-packages (from masspy) (1.7.3)\n",
            "Requirement already satisfied: libroadrunner~=2.0 in /usr/local/lib/python3.7/dist-packages (from masspy) (2.0.5)\n",
            "Requirement already satisfied: numpy~=1.19 in /usr/local/lib/python3.7/dist-packages (from masspy) (1.19.5)\n",
            "Requirement already satisfied: cobra~=0.19.0 in /usr/local/lib/python3.7/dist-packages (from masspy) (0.19.0)\n",
            "Requirement already satisfied: six~=1.11 in /usr/local/lib/python3.7/dist-packages (from masspy) (1.15.0)\n",
            "Requirement already satisfied: sympy~=1.0 in /usr/local/lib/python3.7/dist-packages (from masspy) (1.7.1)\n",
            "Requirement already satisfied: matplotlib~=3.2 in /usr/local/lib/python3.7/dist-packages (from masspy) (3.2.2)\n",
            "Requirement already satisfied: pandas~=1.0 in /usr/local/lib/python3.7/dist-packages (from masspy) (1.1.5)\n",
            "Requirement already satisfied: importlib-metadata; python_version < \"3.8\" in /usr/local/lib/python3.7/dist-packages (from depinfo~=1.5->masspy) (3.10.1)\n",
            "Requirement already satisfied: jsonschema<4,>=3.0.1 in /usr/local/lib/python3.7/dist-packages (from escher~=1.7->masspy) (3.2.0)\n",
            "Requirement already satisfied: Jinja2<3,>=2.7.3 in /usr/local/lib/python3.7/dist-packages (from escher~=1.7->masspy) (2.11.3)\n",
            "Requirement already satisfied: pytest<5,>=4.0.1 in /usr/local/lib/python3.7/dist-packages (from escher~=1.7->masspy) (4.6.11)\n",
            "Requirement already satisfied: ipywidgets<8,>=7.4.0 in /usr/local/lib/python3.7/dist-packages (from escher~=1.7->masspy) (7.6.3)\n",
            "Requirement already satisfied: python-libsbml-experimental==5.18.1 in /usr/local/lib/python3.7/dist-packages (from cobra~=0.19.0->masspy) (5.18.1)\n",
            "Requirement already satisfied: importlib-resources in /usr/local/lib/python3.7/dist-packages (from cobra~=0.19.0->masspy) (5.1.2)\n",
            "Requirement already satisfied: future in /usr/local/lib/python3.7/dist-packages (from cobra~=0.19.0->masspy) (0.16.0)\n",
            "Requirement already satisfied: ruamel.yaml~=0.16 in /usr/local/lib/python3.7/dist-packages (from cobra~=0.19.0->masspy) (0.17.4)\n",
            "Requirement already satisfied: swiglpk in /usr/local/lib/python3.7/dist-packages (from cobra~=0.19.0->masspy) (5.0.3)\n",
            "Requirement already satisfied: optlang~=1.4 in /usr/local/lib/python3.7/dist-packages (from cobra~=0.19.0->masspy) (1.5.1)\n",
            "Requirement already satisfied: mpmath>=0.19 in /usr/local/lib/python3.7/dist-packages (from sympy~=1.0->masspy) (1.2.1)\n",
            "Requirement already satisfied: kiwisolver>=1.0.1 in /usr/local/lib/python3.7/dist-packages (from matplotlib~=3.2->masspy) (1.3.1)\n",
            "Requirement already satisfied: python-dateutil>=2.1 in /usr/local/lib/python3.7/dist-packages (from matplotlib~=3.2->masspy) (2.8.1)\n",
            "Requirement already satisfied: pyparsing!=2.0.4,!=2.1.2,!=2.1.6,>=2.0.1 in /usr/local/lib/python3.7/dist-packages (from matplotlib~=3.2->masspy) (2.4.7)\n",
            "Requirement already satisfied: cycler>=0.10 in /usr/local/lib/python3.7/dist-packages (from matplotlib~=3.2->masspy) (0.10.0)\n",
            "Requirement already satisfied: pytz>=2017.2 in /usr/local/lib/python3.7/dist-packages (from pandas~=1.0->masspy) (2018.9)\n",
            "Requirement already satisfied: zipp>=0.5 in /usr/local/lib/python3.7/dist-packages (from importlib-metadata; python_version < \"3.8\"->depinfo~=1.5->masspy) (3.4.1)\n",
            "Requirement already satisfied: typing-extensions>=3.6.4; python_version < \"3.8\" in /usr/local/lib/python3.7/dist-packages (from importlib-metadata; python_version < \"3.8\"->depinfo~=1.5->masspy) (3.7.4.3)\n",
            "Requirement already satisfied: attrs>=17.4.0 in /usr/local/lib/python3.7/dist-packages (from jsonschema<4,>=3.0.1->escher~=1.7->masspy) (20.3.0)\n",
            "Requirement already satisfied: setuptools in /usr/local/lib/python3.7/dist-packages (from jsonschema<4,>=3.0.1->escher~=1.7->masspy) (56.0.0)\n",
            "Requirement already satisfied: pyrsistent>=0.14.0 in /usr/local/lib/python3.7/dist-packages (from jsonschema<4,>=3.0.1->escher~=1.7->masspy) (0.17.3)\n",
            "Requirement already satisfied: MarkupSafe>=0.23 in /usr/local/lib/python3.7/dist-packages (from Jinja2<3,>=2.7.3->escher~=1.7->masspy) (1.1.1)\n",
            "Requirement already satisfied: wcwidth in /usr/local/lib/python3.7/dist-packages (from pytest<5,>=4.0.1->escher~=1.7->masspy) (0.2.5)\n",
            "Requirement already satisfied: more-itertools>=4.0.0; python_version > \"2.7\" in /usr/local/lib/python3.7/dist-packages (from pytest<5,>=4.0.1->escher~=1.7->masspy) (8.7.0)\n",
            "Requirement already satisfied: pluggy<1.0,>=0.12 in /usr/local/lib/python3.7/dist-packages (from pytest<5,>=4.0.1->escher~=1.7->masspy) (0.13.1)\n",
            "Requirement already satisfied: packaging in /usr/local/lib/python3.7/dist-packages (from pytest<5,>=4.0.1->escher~=1.7->masspy) (20.9)\n",
            "Requirement already satisfied: atomicwrites>=1.0 in /usr/local/lib/python3.7/dist-packages (from pytest<5,>=4.0.1->escher~=1.7->masspy) (1.4.0)\n",
            "Requirement already satisfied: py>=1.5.0 in /usr/local/lib/python3.7/dist-packages (from pytest<5,>=4.0.1->escher~=1.7->masspy) (1.10.0)\n",
            "Requirement already satisfied: ipykernel>=4.5.1 in /usr/local/lib/python3.7/dist-packages (from ipywidgets<8,>=7.4.0->escher~=1.7->masspy) (4.10.1)\n",
            "Requirement already satisfied: traitlets>=4.3.1 in /usr/local/lib/python3.7/dist-packages (from ipywidgets<8,>=7.4.0->escher~=1.7->masspy) (5.0.5)\n",
            "Requirement already satisfied: nbformat>=4.2.0 in /usr/local/lib/python3.7/dist-packages (from ipywidgets<8,>=7.4.0->escher~=1.7->masspy) (5.1.3)\n",
            "Requirement already satisfied: ipython>=4.0.0; python_version >= \"3.3\" in /usr/local/lib/python3.7/dist-packages (from ipywidgets<8,>=7.4.0->escher~=1.7->masspy) (5.5.0)\n",
            "Requirement already satisfied: widgetsnbextension~=3.5.0 in /usr/local/lib/python3.7/dist-packages (from ipywidgets<8,>=7.4.0->escher~=1.7->masspy) (3.5.1)\n",
            "Requirement already satisfied: jupyterlab-widgets>=1.0.0; python_version >= \"3.6\" in /usr/local/lib/python3.7/dist-packages (from ipywidgets<8,>=7.4.0->escher~=1.7->masspy) (1.0.0)\n",
            "Requirement already satisfied: ruamel.yaml.clib>=0.1.2; platform_python_implementation == \"CPython\" and python_version < \"3.10\" in /usr/local/lib/python3.7/dist-packages (from ruamel.yaml~=0.16->cobra~=0.19.0->masspy) (0.2.2)\n",
            "Requirement already satisfied: tornado>=4.0 in /usr/local/lib/python3.7/dist-packages (from ipykernel>=4.5.1->ipywidgets<8,>=7.4.0->escher~=1.7->masspy) (5.1.1)\n",
            "Requirement already satisfied: jupyter-client in /usr/local/lib/python3.7/dist-packages (from ipykernel>=4.5.1->ipywidgets<8,>=7.4.0->escher~=1.7->masspy) (5.3.5)\n",
            "Requirement already satisfied: ipython-genutils in /usr/local/lib/python3.7/dist-packages (from traitlets>=4.3.1->ipywidgets<8,>=7.4.0->escher~=1.7->masspy) (0.2.0)\n",
            "Requirement already satisfied: jupyter-core in /usr/local/lib/python3.7/dist-packages (from nbformat>=4.2.0->ipywidgets<8,>=7.4.0->escher~=1.7->masspy) (4.7.1)\n",
            "Requirement already satisfied: pickleshare in /usr/local/lib/python3.7/dist-packages (from ipython>=4.0.0; python_version >= \"3.3\"->ipywidgets<8,>=7.4.0->escher~=1.7->masspy) (0.7.5)\n",
            "Requirement already satisfied: simplegeneric>0.8 in /usr/local/lib/python3.7/dist-packages (from ipython>=4.0.0; python_version >= \"3.3\"->ipywidgets<8,>=7.4.0->escher~=1.7->masspy) (0.8.1)\n",
            "Requirement already satisfied: pygments in /usr/local/lib/python3.7/dist-packages (from ipython>=4.0.0; python_version >= \"3.3\"->ipywidgets<8,>=7.4.0->escher~=1.7->masspy) (2.6.1)\n",
            "Requirement already satisfied: decorator in /usr/local/lib/python3.7/dist-packages (from ipython>=4.0.0; python_version >= \"3.3\"->ipywidgets<8,>=7.4.0->escher~=1.7->masspy) (4.4.2)\n",
            "Requirement already satisfied: prompt-toolkit<2.0.0,>=1.0.4 in /usr/local/lib/python3.7/dist-packages (from ipython>=4.0.0; python_version >= \"3.3\"->ipywidgets<8,>=7.4.0->escher~=1.7->masspy) (1.0.18)\n",
            "Requirement already satisfied: pexpect; sys_platform != \"win32\" in /usr/local/lib/python3.7/dist-packages (from ipython>=4.0.0; python_version >= \"3.3\"->ipywidgets<8,>=7.4.0->escher~=1.7->masspy) (4.8.0)\n",
            "Requirement already satisfied: notebook>=4.4.1 in /usr/local/lib/python3.7/dist-packages (from widgetsnbextension~=3.5.0->ipywidgets<8,>=7.4.0->escher~=1.7->masspy) (5.3.1)\n",
            "Requirement already satisfied: pyzmq>=13 in /usr/local/lib/python3.7/dist-packages (from jupyter-client->ipykernel>=4.5.1->ipywidgets<8,>=7.4.0->escher~=1.7->masspy) (22.0.3)\n",
            "Requirement already satisfied: ptyprocess>=0.5 in /usr/local/lib/python3.7/dist-packages (from pexpect; sys_platform != \"win32\"->ipython>=4.0.0; python_version >= \"3.3\"->ipywidgets<8,>=7.4.0->escher~=1.7->masspy) (0.7.0)\n",
            "Requirement already satisfied: Send2Trash in /usr/local/lib/python3.7/dist-packages (from notebook>=4.4.1->widgetsnbextension~=3.5.0->ipywidgets<8,>=7.4.0->escher~=1.7->masspy) (1.5.0)\n",
            "Requirement already satisfied: terminado>=0.8.1 in /usr/local/lib/python3.7/dist-packages (from notebook>=4.4.1->widgetsnbextension~=3.5.0->ipywidgets<8,>=7.4.0->escher~=1.7->masspy) (0.9.4)\n",
            "Requirement already satisfied: nbconvert in /usr/local/lib/python3.7/dist-packages (from notebook>=4.4.1->widgetsnbextension~=3.5.0->ipywidgets<8,>=7.4.0->escher~=1.7->masspy) (5.6.1)\n",
            "Requirement already satisfied: bleach in /usr/local/lib/python3.7/dist-packages (from nbconvert->notebook>=4.4.1->widgetsnbextension~=3.5.0->ipywidgets<8,>=7.4.0->escher~=1.7->masspy) (3.3.0)\n",
            "Requirement already satisfied: pandocfilters>=1.4.1 in /usr/local/lib/python3.7/dist-packages (from nbconvert->notebook>=4.4.1->widgetsnbextension~=3.5.0->ipywidgets<8,>=7.4.0->escher~=1.7->masspy) (1.4.3)\n",
            "Requirement already satisfied: defusedxml in /usr/local/lib/python3.7/dist-packages (from nbconvert->notebook>=4.4.1->widgetsnbextension~=3.5.0->ipywidgets<8,>=7.4.0->escher~=1.7->masspy) (0.7.1)\n",
            "Requirement already satisfied: testpath in /usr/local/lib/python3.7/dist-packages (from nbconvert->notebook>=4.4.1->widgetsnbextension~=3.5.0->ipywidgets<8,>=7.4.0->escher~=1.7->masspy) (0.4.4)\n",
            "Requirement already satisfied: mistune<2,>=0.8.1 in /usr/local/lib/python3.7/dist-packages (from nbconvert->notebook>=4.4.1->widgetsnbextension~=3.5.0->ipywidgets<8,>=7.4.0->escher~=1.7->masspy) (0.8.4)\n",
            "Requirement already satisfied: entrypoints>=0.2.2 in /usr/local/lib/python3.7/dist-packages (from nbconvert->notebook>=4.4.1->widgetsnbextension~=3.5.0->ipywidgets<8,>=7.4.0->escher~=1.7->masspy) (0.3)\n",
            "Requirement already satisfied: webencodings in /usr/local/lib/python3.7/dist-packages (from bleach->nbconvert->notebook>=4.4.1->widgetsnbextension~=3.5.0->ipywidgets<8,>=7.4.0->escher~=1.7->masspy) (0.5.1)\n"
          ],
          "name": "stdout"
        }
      ]
    },
    {
      "cell_type": "code",
      "metadata": {
        "execution": {
          "iopub.execute_input": "2020-10-20T20:22:54.095192Z",
          "iopub.status.busy": "2020-10-20T20:22:54.094299Z",
          "iopub.status.idle": "2020-10-20T20:22:56.485788Z",
          "shell.execute_reply": "2020-10-20T20:22:56.486245Z"
        },
        "id": "M1CUUnFG8gn1"
      },
      "source": [
        "import numpy as np\n",
        "import pandas as pd\n",
        "from scipy import optimize\n",
        "\n",
        "from cobra import DictList\n",
        "\n",
        "from mass import (\n",
        "    MassConfiguration, MassMetabolite, MassModel, MassReaction, MassModel,\n",
        "    Simulation, MassSolution, strip_time, Unit, UnitDefinition, qcqa_model)\n",
        "\n",
        "from mass.util.matrix import left_nullspace, nullspace, matrix_rank\n",
        "from mass.util.expressions import Keq2k, k2Keq, strip_time\n",
        "from mass.util.qcqa import qcqa_model\n",
        "from mass.enzyme_modules import EnzymeModule\n",
        "\n",
        "from mass.core.units import print_defined_unit_values\n",
        "\n",
        "from operator import attrgetter\n",
        "from os import path\n",
        "import matplotlib as mpl\n",
        "import matplotlib.pyplot as plt\n",
        "import sympy as sym\n",
        "\n",
        "from mass.io import json, sbml\n",
        "from mass.visualization import (\n",
        "    plot_time_profile, plot_phase_portrait, plot_tiled_phase_portraits)"
      ],
      "execution_count": 76,
      "outputs": []
    },
    {
      "cell_type": "code",
      "metadata": {
        "id": "3Z2d32NV8gn2"
      },
      "source": [
        "# Configuration setup\n",
        "mass_config = MassConfiguration()\n",
        "mass_config.irreversible_Keq = float(\"inf\")"
      ],
      "execution_count": 77,
      "outputs": []
    },
    {
      "cell_type": "code",
      "metadata": {
        "id": "gsQUetsg8gn2"
      },
      "source": [
        "# Visualization setup\n",
        "pd.set_option(\"display.max_rows\", 100)\n",
        "pd.set_option(\"display.max_columns\", 100)\n",
        "pd.set_option('display.max_colwidth', None)\n",
        "pd.options.display.float_format = '{:,.3f}'.format\n",
        "S_FONT = {\"size\": \"small\"}\n",
        "L_FONT = {\"size\": \"large\"}\n",
        "INF = float(\"inf\")"
      ],
      "execution_count": 78,
      "outputs": []
    },
    {
      "cell_type": "markdown",
      "metadata": {
        "id": "db3HfQ058gn3"
      },
      "source": [
        "# Build the model"
      ]
    },
    {
      "cell_type": "markdown",
      "metadata": {
        "id": "xDWqlj9D8gn3"
      },
      "source": [
        "## Create the model"
      ]
    },
    {
      "cell_type": "code",
      "metadata": {
        "id": "4MbMWAdJ8gn4"
      },
      "source": [
        "model = MassModel(\"Urea_Cycle\")"
      ],
      "execution_count": 79,
      "outputs": []
    },
    {
      "cell_type": "markdown",
      "metadata": {
        "id": "SqCc30JZ8gn4"
      },
      "source": [
        "## Create metabolites"
      ]
    },
    {
      "cell_type": "code",
      "metadata": {
        "execution": {
          "iopub.execute_input": "2020-10-20T20:22:56.511260Z",
          "iopub.status.busy": "2020-10-20T20:22:56.510620Z",
          "iopub.status.idle": "2020-10-20T20:22:56.512892Z",
          "shell.execute_reply": "2020-10-20T20:22:56.513479Z"
        },
        "id": "BTwgJxe_8gn4"
      },
      "source": [
        "\"\"\"\n",
        "Each metabolite in the network is created with\n",
        "an ID, a name, its formula, its charge, and the compartment it is in (mitochrondia, cytosol or both).\n",
        "\"\"\"\n",
        "\n",
        "hco3_m = MassMetabolite(\n",
        "    \"hco3_m\",\n",
        "    name=\"Carbonic acid\",\n",
        "    formula=\"HCO3\",\n",
        "    charge=-1,\n",
        "    compartment=\"m\")\n",
        "\n",
        "nh4_m = MassMetabolite(\n",
        "    \"nh4_m\",\n",
        "    name=\"Ammonium\",\n",
        "    formula=\"NH4\",\n",
        "    charge=1,\n",
        "    compartment=\"m\")\n",
        "\n",
        "h = MassMetabolite(\n",
        "    \"h\",\n",
        "    name=\"Hydrogen\",\n",
        "    formula=\"H\",\n",
        "    charge=1,\n",
        "    compartment=\"both\")\n",
        "\n",
        "atp = MassMetabolite(\n",
        "    \"atp\",\n",
        "    name=\"ATP\",\n",
        "    formula=\"C10H12N5O13P3\",\n",
        "    charge=-4,\n",
        "    compartment=\"both\")\n",
        "\n",
        "adp_m = MassMetabolite(\n",
        "    \"adp_m\",\n",
        "    name=\"ADP\",\n",
        "    formula=\"C10H12N5O10P2\",\n",
        "    charge=-3,\n",
        "    compartment=\"m\")\n",
        "\n",
        "pi_m = MassMetabolite(\n",
        "    \"pi_m\",\n",
        "    name=\"Phosphate\",\n",
        "    formula=\"PO4\",\n",
        "    charge=-3,\n",
        "    compartment=\"m\")\n",
        "\n",
        "carb_phos_m = MassMetabolite(\n",
        "    \"carb_phos_m\",\n",
        "    name=\"Carbamoyl phosphate\",\n",
        "    formula=\"NH2CO2PO3\",\n",
        "    charge=-2,\n",
        "    compartment=\"m\")\n",
        "\n",
        "ornithine = MassMetabolite(\n",
        "    \"ornithine\",\n",
        "    name=\"Ornithine\",\n",
        "    formula=\"C5H13N2O2\",\n",
        "    charge=1,\n",
        "    compartment=\"both\")\n",
        "\n",
        "citrulline = MassMetabolite(\n",
        "    \"citrulline\",\n",
        "    name=\"Citrulline\",\n",
        "    formula=\"C6H13N3O3\",\n",
        "    charge=0,\n",
        "    compartment=\"both\")\n",
        "\n",
        "ppi_c = MassMetabolite(\n",
        "    \"ppi_c\",\n",
        "    name=\"Diphosphate\",\n",
        "    formula=\"P2O7\",\n",
        "    charge=-4,\n",
        "    compartment=\"c\")\n",
        "\n",
        "amp_c = MassMetabolite(\n",
        "    \"amp_c\",\n",
        "    name=\"AMP\",\n",
        "    formula=\"C10H12N5O7P\",\n",
        "    charge=-2,\n",
        "    compartment=\"c\")\n",
        "\n",
        "aspartate_c = MassMetabolite(\n",
        "    \"aspartate_c\",\n",
        "    name=\"Aspartate\",\n",
        "    formula=\"C4H6NO4\",\n",
        "    charge=-1,\n",
        "    compartment=\"c\")\n",
        "\n",
        "argi_suc_c = MassMetabolite(\n",
        "    \"argi_suc_c\",\n",
        "    name=\"Argigino succinate\",\n",
        "    formula=\"C10H17N4O6\",\n",
        "    charge=-1,\n",
        "    compartment=\"c\")\n",
        "\n",
        "fumarate_c = MassMetabolite(\n",
        "    \"fumarate_c\",\n",
        "    name=\"Fumarate\",\n",
        "    formula=\"C4H2O4\",\n",
        "    charge=-2,\n",
        "    compartment=\"c\")\n",
        "\n",
        "arginine_c = MassMetabolite(\n",
        "    \"arginine_c\",\n",
        "    name=\"Arginine\",\n",
        "    formula=\"C6H15N4O2\",\n",
        "    charge=1,\n",
        "    compartment=\"c\")\n",
        "\n",
        "h2o_c = MassMetabolite(\n",
        "    \"h2o_c\",\n",
        "    name=\"Water\",\n",
        "    formula=\"H2O\",\n",
        "    charge=0,\n",
        "    compartment=\"c\")\n",
        "\n",
        "urea_c = MassMetabolite(\n",
        "    \"urea_c\",\n",
        "    name=\"Urea\",\n",
        "    formula=\"CH4N2O\",\n",
        "    charge=0,\n",
        "    compartment=\"c\")"
      ],
      "execution_count": 80,
      "outputs": []
    },
    {
      "cell_type": "markdown",
      "metadata": {
        "id": "lS3RtV8q8gn6"
      },
      "source": [
        "## Create reactions"
      ]
    },
    {
      "cell_type": "markdown",
      "metadata": {
        "id": "P7cJlI9s8gn6"
      },
      "source": [
        "### Main reactions"
      ]
    },
    {
      "cell_type": "code",
      "metadata": {
        "execution": {
          "iopub.execute_input": "2020-10-20T20:22:56.539475Z",
          "iopub.status.busy": "2020-10-20T20:22:56.538825Z",
          "iopub.status.idle": "2020-10-20T20:22:56.541253Z",
          "shell.execute_reply": "2020-10-20T20:22:56.541808Z"
        },
        "id": "g8I7MOpe8gn6"
      },
      "source": [
        "# Define main reactions in the network\n",
        "\n",
        "enter = MassReaction(\"CPS\", name=\"Entering\", reversible=False)\n",
        "condense_1 = MassReaction(\"OTC\", name=\"Condensation 1\", reversible=False)\n",
        "condense_2 = MassReaction(\"ASD\", name=\"Condensation 2\", reversible=False)\n",
        "cleave_1 = MassReaction(\"ALD\", name=\"Cleavage 1\", reversible=False)\n",
        "cleave_2 = MassReaction(\"AG\", name=\"Cleavage 2\", reversible=False)\n",
        "\n",
        "# Add metabolites\n",
        "# the value of each metabolite shows whether it is a reactant (negative) or a product (positive),\n",
        "# and its coefficient\n",
        "\n",
        "enter.add_metabolites({\n",
        "    nh4_m: -1,\n",
        "    hco3_m: -1,\n",
        "    atp: -2,\n",
        "    h: 3,\n",
        "    pi_m: 1,\n",
        "    adp_m: 2,\n",
        "    carb_phos_m: 1\n",
        "})\n",
        "\n",
        "condense_1.add_metabolites({\n",
        "    carb_phos_m: -1,\n",
        "    ornithine: -1,\n",
        "    pi_m: 1,\n",
        "    h: 2,\n",
        "    citrulline: 1\n",
        "})\n",
        "\n",
        "condense_2.add_metabolites({\n",
        "    citrulline: -1,\n",
        "    aspartate_c: -1,\n",
        "    atp: -1,\n",
        "    h: 2,\n",
        "    ppi_c: 1,\n",
        "    amp_c: 1,\n",
        "    argi_suc_c: 1\n",
        "})\n",
        "\n",
        "cleave_1.add_metabolites({\n",
        "    argi_suc_c: -1,\n",
        "    fumarate_c: 1,\n",
        "    arginine_c: 1\n",
        "})\n",
        "\n",
        "cleave_2.add_metabolites({\n",
        "    arginine_c: -1,\n",
        "    h2o_c: -1,\n",
        "    ornithine: 1,\n",
        "    urea_c: 1\n",
        "})\n",
        "\n",
        "# Add the reactions to the model\n",
        "model.add_reactions([enter, condense_1, condense_2, cleave_1, cleave_2])"
      ],
      "execution_count": 81,
      "outputs": []
    },
    {
      "cell_type": "markdown",
      "metadata": {
        "id": "qr-y00Z88gn8"
      },
      "source": [
        "### Boundary reactions"
      ]
    },
    {
      "cell_type": "code",
      "metadata": {
        "id": "p2UF88nf8gn9"
      },
      "source": [
        "# Define and add boundary reactions\n",
        "\n",
        "# for example, there is a source for hco3\n",
        "hco3_in = model.add_boundary(\n",
        "    model.metabolites.hco3_m,\n",
        "    boundary_type=\"demand\",\n",
        "    reaction_id=\"hco3_in\")\n",
        "# by default, it is consumed, so we have to reverse it\n",
        "hco3_in.reverse_stoichiometry(inplace=True)\n",
        "\n",
        "nh4_in = model.add_boundary(\n",
        "    model.metabolites.nh4_m,\n",
        "    boundary_type=\"demand\",\n",
        "    reaction_id=\"nh4_in\")\n",
        "nh4_in.reverse_stoichiometry(inplace=True)\n",
        "\n",
        "atp_in = model.add_boundary(\n",
        "    model.metabolites.atp,\n",
        "    boundary_type=\"demand\",\n",
        "    reaction_id=\"atp_in\")\n",
        "atp_in.reverse_stoichiometry(inplace=True)\n",
        "\n",
        "aspartate_in = model.add_boundary(\n",
        "    model.metabolites.aspartate_c,\n",
        "    boundary_type=\"demand\",\n",
        "    reaction_id=\"aspartate_in\")\n",
        "aspartate_in.reverse_stoichiometry(inplace=True)\n",
        "\n",
        "h2o_in = model.add_boundary(\n",
        "    model.metabolites.h2o_c,\n",
        "    boundary_type=\"demand\",\n",
        "    reaction_id=\"h2o_in\")\n",
        "h2o_in.reverse_stoichiometry(inplace=True)\n",
        "\n",
        "h_out = model.add_boundary(\n",
        "    model.metabolites.h,\n",
        "    boundary_type=\"demand\",\n",
        "    reaction_id=\"h_out\")\n",
        "\n",
        "adp_out = model.add_boundary(\n",
        "    model.metabolites.adp_m,\n",
        "    boundary_type=\"demand\",\n",
        "    reaction_id=\"adp_out\")\n",
        "\n",
        "pi_out = model.add_boundary(\n",
        "    model.metabolites.pi_m,\n",
        "    boundary_type=\"demand\",\n",
        "    reaction_id=\"pi_out\")\n",
        "\n",
        "amp_out = model.add_boundary(\n",
        "    model.metabolites.amp_c,\n",
        "    boundary_type=\"demand\",\n",
        "    reaction_id=\"amp_out\")\n",
        "\n",
        "ppi_out = model.add_boundary(\n",
        "    model.metabolites.ppi_c,\n",
        "    boundary_type=\"demand\",\n",
        "    reaction_id=\"ppi_out\")\n",
        "\n",
        "fumarate_out = model.add_boundary(\n",
        "    model.metabolites.fumarate_c,\n",
        "    boundary_type=\"demand\",\n",
        "    reaction_id=\"fumarate_out\")\n",
        "\n",
        "urea_out = model.add_boundary(\n",
        "    model.metabolites.urea_c,\n",
        "    boundary_type=\"demand\",\n",
        "    reaction_id=\"urea_out\")"
      ],
      "execution_count": 82,
      "outputs": []
    },
    {
      "cell_type": "code",
      "metadata": {
        "colab": {
          "base_uri": "https://localhost:8080/"
        },
        "id": "2sD5WJM68gn-",
        "outputId": "fcf222f8-dbba-45fb-9d28-0564163c4b9b"
      },
      "source": [
        "# Check the number of reactions and metabolites\n",
        "print(f\"Number of metabolites: {len(model.metabolites)}\")\n",
        "print(f\"Number of all reactions: {len(model.reactions)}\")\n",
        "print(f\"Number of boundary reactions: {len(model.boundary)}\")"
      ],
      "execution_count": 83,
      "outputs": [
        {
          "output_type": "stream",
          "text": [
            "Number of metabolites: 17\n",
            "Number of all reactions: 17\n",
            "Number of boundary reactions: 12\n"
          ],
          "name": "stdout"
        }
      ]
    },
    {
      "cell_type": "code",
      "metadata": {
        "colab": {
          "base_uri": "https://localhost:8080/"
        },
        "id": "QHnUt_GS8gn_",
        "outputId": "5cf301fd-0a95-46a3-b673-76009b3828d3"
      },
      "source": [
        "# Check all the boundary reactions\n",
        "print('All the boundary reactions')\n",
        "for boundary in model.boundary:\n",
        "    print(boundary)\n",
        "    \n",
        "# Check all the reactions\n",
        "print('All the main reactions')\n",
        "for reaction in model.reactions[:5]:\n",
        "    print(reaction)"
      ],
      "execution_count": 84,
      "outputs": [
        {
          "output_type": "stream",
          "text": [
            "All the boundary reactions\n",
            "hco3_in:  --> hco3_m\n",
            "nh4_in:  --> nh4_m\n",
            "atp_in:  --> atp\n",
            "aspartate_in:  --> aspartate_c\n",
            "h2o_in:  --> h2o_c\n",
            "h_out: h --> \n",
            "adp_out: adp_m --> \n",
            "pi_out: pi_m --> \n",
            "amp_out: amp_c --> \n",
            "ppi_out: ppi_c --> \n",
            "fumarate_out: fumarate_c --> \n",
            "urea_out: urea_c --> \n",
            "All the main reactions\n",
            "CPS: 2 atp + hco3_m + nh4_m --> 2 adp_m + carb_phos_m + 3 h + pi_m\n",
            "OTC: carb_phos_m + ornithine --> citrulline + 2 h + pi_m\n",
            "ASD: aspartate_c + atp + citrulline --> amp_c + argi_suc_c + 2 h + ppi_c\n",
            "ALD: argi_suc_c --> arginine_c + fumarate_c\n",
            "AG: arginine_c + h2o_c --> ornithine + urea_c\n"
          ],
          "name": "stdout"
        }
      ]
    },
    {
      "cell_type": "markdown",
      "metadata": {
        "id": "JKRSXicu8gn_"
      },
      "source": [
        "# Add values of metabolites and reactions"
      ]
    },
    {
      "cell_type": "code",
      "metadata": {
        "id": "VO-9IO_08goA"
      },
      "source": [
        "np.random.seed(123)"
      ],
      "execution_count": 85,
      "outputs": []
    },
    {
      "cell_type": "markdown",
      "metadata": {
        "id": "WtUQT5q78goA"
      },
      "source": [
        "## Initial concentrations"
      ]
    },
    {
      "cell_type": "code",
      "metadata": {
        "execution": {
          "iopub.execute_input": "2020-10-20T20:22:56.518412Z",
          "iopub.status.busy": "2020-10-20T20:22:56.517675Z",
          "iopub.status.idle": "2020-10-20T20:22:56.520219Z",
          "shell.execute_reply": "2020-10-20T20:22:56.520651Z"
        },
        "colab": {
          "base_uri": "https://localhost:8080/",
          "height": 531
        },
        "id": "9BSgHIxQ8goC",
        "outputId": "1b058d25-feb4-4eb5-b894-a801fe3c7f11"
      },
      "source": [
        "# Add the initial concentrations of all metabolites\n",
        "\n",
        "for metabolite in model.metabolites:\n",
        "    metabolite.ic = np.random.uniform(0, 10)\n",
        "    \n",
        "h2o_c.ic = 55000\n",
        "hco3_m.ic = 24.5\n",
        "nh4_m.ic = 0.0385\n",
        "h.ic = 10\n",
        "atp.ic = 1.077\n",
        "adp_m.ic = 0.16\n",
        "pi_m.ic = 1.137\n",
        "carb_phos_m.ic = 0.029\n",
        "ornithine.ic = 0.013\n",
        "citrulline.ic =  0.02875\n",
        "ppi_c.ic = 0.0018\n",
        "amp_c.ic = 0.019\n",
        "aspartate_c.ic = 0.0155\n",
        "argi_suc_c.ic = 0.00175\n",
        "fumarate_c.ic = 0.000945\n",
        "arginine_c.ic = 0.07683\n",
        "urea_c.ic = 1.682\n",
        "\n",
        "# Show all the metabolites and their initial concentrations\n",
        "metabolite_ids = [m.id for m in model.metabolites]\n",
        "table_1 = pd.DataFrame(\n",
        "    np.array([metabolite_ids,\n",
        "              [met.name for met in model.metabolites],\n",
        "              [model.initial_conditions[met]\n",
        "               for met in model.metabolites]]).T,\n",
        "    index=[i for i in range(1, len(metabolite_ids) + 1)],\n",
        "    columns=[\"Abbreviations\", \"Species\", \"Initial Concentration\"])\n",
        "table_1"
      ],
      "execution_count": 86,
      "outputs": [
        {
          "output_type": "execute_result",
          "data": {
            "text/html": [
              "<div>\n",
              "<style scoped>\n",
              "    .dataframe tbody tr th:only-of-type {\n",
              "        vertical-align: middle;\n",
              "    }\n",
              "\n",
              "    .dataframe tbody tr th {\n",
              "        vertical-align: top;\n",
              "    }\n",
              "\n",
              "    .dataframe thead th {\n",
              "        text-align: right;\n",
              "    }\n",
              "</style>\n",
              "<table border=\"1\" class=\"dataframe\">\n",
              "  <thead>\n",
              "    <tr style=\"text-align: right;\">\n",
              "      <th></th>\n",
              "      <th>Abbreviations</th>\n",
              "      <th>Species</th>\n",
              "      <th>Initial Concentration</th>\n",
              "    </tr>\n",
              "  </thead>\n",
              "  <tbody>\n",
              "    <tr>\n",
              "      <th>1</th>\n",
              "      <td>nh4_m</td>\n",
              "      <td>Ammonium</td>\n",
              "      <td>0.0385</td>\n",
              "    </tr>\n",
              "    <tr>\n",
              "      <th>2</th>\n",
              "      <td>hco3_m</td>\n",
              "      <td>Carbonic acid</td>\n",
              "      <td>24.5</td>\n",
              "    </tr>\n",
              "    <tr>\n",
              "      <th>3</th>\n",
              "      <td>atp</td>\n",
              "      <td>ATP</td>\n",
              "      <td>1.077</td>\n",
              "    </tr>\n",
              "    <tr>\n",
              "      <th>4</th>\n",
              "      <td>h</td>\n",
              "      <td>Hydrogen</td>\n",
              "      <td>10</td>\n",
              "    </tr>\n",
              "    <tr>\n",
              "      <th>5</th>\n",
              "      <td>pi_m</td>\n",
              "      <td>Phosphate</td>\n",
              "      <td>1.137</td>\n",
              "    </tr>\n",
              "    <tr>\n",
              "      <th>6</th>\n",
              "      <td>adp_m</td>\n",
              "      <td>ADP</td>\n",
              "      <td>0.16</td>\n",
              "    </tr>\n",
              "    <tr>\n",
              "      <th>7</th>\n",
              "      <td>carb_phos_m</td>\n",
              "      <td>Carbamoyl phosphate</td>\n",
              "      <td>0.029</td>\n",
              "    </tr>\n",
              "    <tr>\n",
              "      <th>8</th>\n",
              "      <td>ornithine</td>\n",
              "      <td>Ornithine</td>\n",
              "      <td>0.013</td>\n",
              "    </tr>\n",
              "    <tr>\n",
              "      <th>9</th>\n",
              "      <td>citrulline</td>\n",
              "      <td>Citrulline</td>\n",
              "      <td>0.02875</td>\n",
              "    </tr>\n",
              "    <tr>\n",
              "      <th>10</th>\n",
              "      <td>aspartate_c</td>\n",
              "      <td>Aspartate</td>\n",
              "      <td>0.0155</td>\n",
              "    </tr>\n",
              "    <tr>\n",
              "      <th>11</th>\n",
              "      <td>ppi_c</td>\n",
              "      <td>Diphosphate</td>\n",
              "      <td>0.0018</td>\n",
              "    </tr>\n",
              "    <tr>\n",
              "      <th>12</th>\n",
              "      <td>amp_c</td>\n",
              "      <td>AMP</td>\n",
              "      <td>0.019</td>\n",
              "    </tr>\n",
              "    <tr>\n",
              "      <th>13</th>\n",
              "      <td>argi_suc_c</td>\n",
              "      <td>Argigino succinate</td>\n",
              "      <td>0.00175</td>\n",
              "    </tr>\n",
              "    <tr>\n",
              "      <th>14</th>\n",
              "      <td>fumarate_c</td>\n",
              "      <td>Fumarate</td>\n",
              "      <td>0.000945</td>\n",
              "    </tr>\n",
              "    <tr>\n",
              "      <th>15</th>\n",
              "      <td>arginine_c</td>\n",
              "      <td>Arginine</td>\n",
              "      <td>0.07683</td>\n",
              "    </tr>\n",
              "    <tr>\n",
              "      <th>16</th>\n",
              "      <td>h2o_c</td>\n",
              "      <td>Water</td>\n",
              "      <td>55000</td>\n",
              "    </tr>\n",
              "    <tr>\n",
              "      <th>17</th>\n",
              "      <td>urea_c</td>\n",
              "      <td>Urea</td>\n",
              "      <td>1.682</td>\n",
              "    </tr>\n",
              "  </tbody>\n",
              "</table>\n",
              "</div>"
            ],
            "text/plain": [
              "   Abbreviations              Species Initial Concentration\n",
              "1          nh4_m             Ammonium                0.0385\n",
              "2         hco3_m        Carbonic acid                  24.5\n",
              "3            atp                  ATP                 1.077\n",
              "4              h             Hydrogen                    10\n",
              "5           pi_m            Phosphate                 1.137\n",
              "6          adp_m                  ADP                  0.16\n",
              "7    carb_phos_m  Carbamoyl phosphate                 0.029\n",
              "8      ornithine            Ornithine                 0.013\n",
              "9     citrulline           Citrulline               0.02875\n",
              "10   aspartate_c            Aspartate                0.0155\n",
              "11         ppi_c          Diphosphate                0.0018\n",
              "12         amp_c                  AMP                 0.019\n",
              "13    argi_suc_c   Argigino succinate               0.00175\n",
              "14    fumarate_c             Fumarate              0.000945\n",
              "15    arginine_c             Arginine               0.07683\n",
              "16         h2o_c                Water                 55000\n",
              "17        urea_c                 Urea                 1.682"
            ]
          },
          "metadata": {
            "tags": []
          },
          "execution_count": 86
        }
      ]
    },
    {
      "cell_type": "markdown",
      "metadata": {
        "id": "bjBceJ2u8goD"
      },
      "source": [
        "## Reaction rates"
      ]
    },
    {
      "cell_type": "code",
      "metadata": {
        "execution": {
          "iopub.execute_input": "2020-10-20T20:22:56.547984Z",
          "iopub.status.busy": "2020-10-20T20:22:56.547226Z",
          "iopub.status.idle": "2020-10-20T20:22:56.550175Z",
          "shell.execute_reply": "2020-10-20T20:22:56.550616Z"
        },
        "scrolled": true,
        "colab": {
          "base_uri": "https://localhost:8080/"
        },
        "id": "9txOPIf18goD",
        "outputId": "6b5652c7-8978-4dee-d050-b194ab17404f"
      },
      "source": [
        "\n",
        "# hco3_in.kf = 2.6\n",
        "# nh4_in.kf = 6\n",
        "# atp_in.kf = 1.2\n",
        "# aspartate_in.kf = 3.5\n",
        "# h2o_in.kf = 3.2\n",
        "# h_out.kf = 4.3\n",
        "# adp_out.kf = 5.2\n",
        "# pi_out.kf = 3.1\n",
        "# amp_out.kf = 2.7\n",
        "# ppi_out.kf = 4.1\n",
        "# fumarate_out.kf = 1.2\n",
        "# urea_out.kf = 2.8\n",
        "\n",
        "for reaction in model.reactions:\n",
        "    reaction.kf = np.random.uniform(200, 2000)\n",
        "\n",
        "enter.forward_rate_constant = 1.213*1000\n",
        "condense_1.kf = 2.3*1000\n",
        "condense_2.kf = 0.1295*1000\n",
        "cleave_1.kf = 10.3*1000\n",
        "cleave_2.kf = 0.034*1000\n",
        "\n",
        "for reaction in model.reactions:\n",
        "    print(reaction.parameters)"
      ],
      "execution_count": 87,
      "outputs": [
        {
          "output_type": "stream",
          "text": [
            "{'kf_CPS': 1213.0, 'Keq_CPS': inf}\n",
            "{'kf_OTC': 2300.0, 'Keq_OTC': inf}\n",
            "{'kf_ASD': 129.5, 'Keq_ASD': inf}\n",
            "{'kf_ALD': 10300.0, 'Keq_ALD': inf}\n",
            "{'kf_AG': 34.0, 'Keq_AG': inf}\n",
            "{'kf_hco3_in': 1504.0195847491434, 'Keq_hco3_in': inf}\n",
            "{'kf_nh4_in': 1299.8423192196492, 'Keq_nh4_in': inf}\n",
            "{'kf_atp_in': 1500.3980886263987, 'Keq_atp_in': inf}\n",
            "{'kf_aspartate_in': 781.3260449357208, 'Keq_aspartate_in': inf}\n",
            "{'kf_h2o_in': 851.2195801201653, 'Keq_h2o_in': inf}\n",
            "{'kf_h_out': 610.8738155821202, 'Keq_h_out': inf}\n",
            "{'kf_adp_out': 728.6852834998929, 'Keq_adp_out': inf}\n",
            "{'kf_pi_out': 1335.7570229380779, 'Keq_pi_out': inf}\n",
            "{'kf_amp_out': 365.78889190113534, 'Keq_amp_out': inf}\n",
            "{'kf_ppi_out': 980.6621108231508, 'Keq_ppi_out': inf}\n",
            "{'kf_fumarate_out': 975.5529739933588, 'Keq_fumarate_out': inf}\n",
            "{'kf_urea_out': 1088.6331757705511, 'Keq_urea_out': inf}\n"
          ],
          "name": "stdout"
        }
      ]
    },
    {
      "cell_type": "markdown",
      "metadata": {
        "id": "JeRap5MG8goF"
      },
      "source": [
        "# Stoichiometric matrix"
      ]
    },
    {
      "cell_type": "markdown",
      "metadata": {
        "id": "LUIu9iry8goG"
      },
      "source": [
        "## Inspect stoichiometric matrix"
      ]
    },
    {
      "cell_type": "code",
      "metadata": {
        "execution": {
          "iopub.execute_input": "2020-10-20T20:22:56.583009Z",
          "iopub.status.busy": "2020-10-20T20:22:56.582357Z",
          "iopub.status.idle": "2020-10-20T20:22:56.587710Z",
          "shell.execute_reply": "2020-10-20T20:22:56.588156Z"
        },
        "colab": {
          "base_uri": "https://localhost:8080/",
          "height": 0
        },
        "id": "_olNhblU8goG",
        "outputId": "9483566a-5794-41e6-a589-455a56829742"
      },
      "source": [
        "# Show the stoichiometric matrix\n",
        "model.update_S(array_type=\"DataFrame\", dtype=np.int_, update_model=True)\n",
        "table_2 = model.S\n",
        "table_2"
      ],
      "execution_count": 88,
      "outputs": [
        {
          "output_type": "execute_result",
          "data": {
            "text/html": [
              "<div>\n",
              "<style scoped>\n",
              "    .dataframe tbody tr th:only-of-type {\n",
              "        vertical-align: middle;\n",
              "    }\n",
              "\n",
              "    .dataframe tbody tr th {\n",
              "        vertical-align: top;\n",
              "    }\n",
              "\n",
              "    .dataframe thead th {\n",
              "        text-align: right;\n",
              "    }\n",
              "</style>\n",
              "<table border=\"1\" class=\"dataframe\">\n",
              "  <thead>\n",
              "    <tr style=\"text-align: right;\">\n",
              "      <th></th>\n",
              "      <th>CPS</th>\n",
              "      <th>OTC</th>\n",
              "      <th>ASD</th>\n",
              "      <th>ALD</th>\n",
              "      <th>AG</th>\n",
              "      <th>hco3_in</th>\n",
              "      <th>nh4_in</th>\n",
              "      <th>atp_in</th>\n",
              "      <th>aspartate_in</th>\n",
              "      <th>h2o_in</th>\n",
              "      <th>h_out</th>\n",
              "      <th>adp_out</th>\n",
              "      <th>pi_out</th>\n",
              "      <th>amp_out</th>\n",
              "      <th>ppi_out</th>\n",
              "      <th>fumarate_out</th>\n",
              "      <th>urea_out</th>\n",
              "    </tr>\n",
              "  </thead>\n",
              "  <tbody>\n",
              "    <tr>\n",
              "      <th>nh4_m</th>\n",
              "      <td>-1</td>\n",
              "      <td>0</td>\n",
              "      <td>0</td>\n",
              "      <td>0</td>\n",
              "      <td>0</td>\n",
              "      <td>0</td>\n",
              "      <td>1</td>\n",
              "      <td>0</td>\n",
              "      <td>0</td>\n",
              "      <td>0</td>\n",
              "      <td>0</td>\n",
              "      <td>0</td>\n",
              "      <td>0</td>\n",
              "      <td>0</td>\n",
              "      <td>0</td>\n",
              "      <td>0</td>\n",
              "      <td>0</td>\n",
              "    </tr>\n",
              "    <tr>\n",
              "      <th>hco3_m</th>\n",
              "      <td>-1</td>\n",
              "      <td>0</td>\n",
              "      <td>0</td>\n",
              "      <td>0</td>\n",
              "      <td>0</td>\n",
              "      <td>1</td>\n",
              "      <td>0</td>\n",
              "      <td>0</td>\n",
              "      <td>0</td>\n",
              "      <td>0</td>\n",
              "      <td>0</td>\n",
              "      <td>0</td>\n",
              "      <td>0</td>\n",
              "      <td>0</td>\n",
              "      <td>0</td>\n",
              "      <td>0</td>\n",
              "      <td>0</td>\n",
              "    </tr>\n",
              "    <tr>\n",
              "      <th>atp</th>\n",
              "      <td>-2</td>\n",
              "      <td>0</td>\n",
              "      <td>-1</td>\n",
              "      <td>0</td>\n",
              "      <td>0</td>\n",
              "      <td>0</td>\n",
              "      <td>0</td>\n",
              "      <td>1</td>\n",
              "      <td>0</td>\n",
              "      <td>0</td>\n",
              "      <td>0</td>\n",
              "      <td>0</td>\n",
              "      <td>0</td>\n",
              "      <td>0</td>\n",
              "      <td>0</td>\n",
              "      <td>0</td>\n",
              "      <td>0</td>\n",
              "    </tr>\n",
              "    <tr>\n",
              "      <th>h</th>\n",
              "      <td>3</td>\n",
              "      <td>2</td>\n",
              "      <td>2</td>\n",
              "      <td>0</td>\n",
              "      <td>0</td>\n",
              "      <td>0</td>\n",
              "      <td>0</td>\n",
              "      <td>0</td>\n",
              "      <td>0</td>\n",
              "      <td>0</td>\n",
              "      <td>-1</td>\n",
              "      <td>0</td>\n",
              "      <td>0</td>\n",
              "      <td>0</td>\n",
              "      <td>0</td>\n",
              "      <td>0</td>\n",
              "      <td>0</td>\n",
              "    </tr>\n",
              "    <tr>\n",
              "      <th>pi_m</th>\n",
              "      <td>1</td>\n",
              "      <td>1</td>\n",
              "      <td>0</td>\n",
              "      <td>0</td>\n",
              "      <td>0</td>\n",
              "      <td>0</td>\n",
              "      <td>0</td>\n",
              "      <td>0</td>\n",
              "      <td>0</td>\n",
              "      <td>0</td>\n",
              "      <td>0</td>\n",
              "      <td>0</td>\n",
              "      <td>-1</td>\n",
              "      <td>0</td>\n",
              "      <td>0</td>\n",
              "      <td>0</td>\n",
              "      <td>0</td>\n",
              "    </tr>\n",
              "    <tr>\n",
              "      <th>adp_m</th>\n",
              "      <td>2</td>\n",
              "      <td>0</td>\n",
              "      <td>0</td>\n",
              "      <td>0</td>\n",
              "      <td>0</td>\n",
              "      <td>0</td>\n",
              "      <td>0</td>\n",
              "      <td>0</td>\n",
              "      <td>0</td>\n",
              "      <td>0</td>\n",
              "      <td>0</td>\n",
              "      <td>-1</td>\n",
              "      <td>0</td>\n",
              "      <td>0</td>\n",
              "      <td>0</td>\n",
              "      <td>0</td>\n",
              "      <td>0</td>\n",
              "    </tr>\n",
              "    <tr>\n",
              "      <th>carb_phos_m</th>\n",
              "      <td>1</td>\n",
              "      <td>-1</td>\n",
              "      <td>0</td>\n",
              "      <td>0</td>\n",
              "      <td>0</td>\n",
              "      <td>0</td>\n",
              "      <td>0</td>\n",
              "      <td>0</td>\n",
              "      <td>0</td>\n",
              "      <td>0</td>\n",
              "      <td>0</td>\n",
              "      <td>0</td>\n",
              "      <td>0</td>\n",
              "      <td>0</td>\n",
              "      <td>0</td>\n",
              "      <td>0</td>\n",
              "      <td>0</td>\n",
              "    </tr>\n",
              "    <tr>\n",
              "      <th>ornithine</th>\n",
              "      <td>0</td>\n",
              "      <td>-1</td>\n",
              "      <td>0</td>\n",
              "      <td>0</td>\n",
              "      <td>1</td>\n",
              "      <td>0</td>\n",
              "      <td>0</td>\n",
              "      <td>0</td>\n",
              "      <td>0</td>\n",
              "      <td>0</td>\n",
              "      <td>0</td>\n",
              "      <td>0</td>\n",
              "      <td>0</td>\n",
              "      <td>0</td>\n",
              "      <td>0</td>\n",
              "      <td>0</td>\n",
              "      <td>0</td>\n",
              "    </tr>\n",
              "    <tr>\n",
              "      <th>citrulline</th>\n",
              "      <td>0</td>\n",
              "      <td>1</td>\n",
              "      <td>-1</td>\n",
              "      <td>0</td>\n",
              "      <td>0</td>\n",
              "      <td>0</td>\n",
              "      <td>0</td>\n",
              "      <td>0</td>\n",
              "      <td>0</td>\n",
              "      <td>0</td>\n",
              "      <td>0</td>\n",
              "      <td>0</td>\n",
              "      <td>0</td>\n",
              "      <td>0</td>\n",
              "      <td>0</td>\n",
              "      <td>0</td>\n",
              "      <td>0</td>\n",
              "    </tr>\n",
              "    <tr>\n",
              "      <th>aspartate_c</th>\n",
              "      <td>0</td>\n",
              "      <td>0</td>\n",
              "      <td>-1</td>\n",
              "      <td>0</td>\n",
              "      <td>0</td>\n",
              "      <td>0</td>\n",
              "      <td>0</td>\n",
              "      <td>0</td>\n",
              "      <td>1</td>\n",
              "      <td>0</td>\n",
              "      <td>0</td>\n",
              "      <td>0</td>\n",
              "      <td>0</td>\n",
              "      <td>0</td>\n",
              "      <td>0</td>\n",
              "      <td>0</td>\n",
              "      <td>0</td>\n",
              "    </tr>\n",
              "    <tr>\n",
              "      <th>ppi_c</th>\n",
              "      <td>0</td>\n",
              "      <td>0</td>\n",
              "      <td>1</td>\n",
              "      <td>0</td>\n",
              "      <td>0</td>\n",
              "      <td>0</td>\n",
              "      <td>0</td>\n",
              "      <td>0</td>\n",
              "      <td>0</td>\n",
              "      <td>0</td>\n",
              "      <td>0</td>\n",
              "      <td>0</td>\n",
              "      <td>0</td>\n",
              "      <td>0</td>\n",
              "      <td>-1</td>\n",
              "      <td>0</td>\n",
              "      <td>0</td>\n",
              "    </tr>\n",
              "    <tr>\n",
              "      <th>amp_c</th>\n",
              "      <td>0</td>\n",
              "      <td>0</td>\n",
              "      <td>1</td>\n",
              "      <td>0</td>\n",
              "      <td>0</td>\n",
              "      <td>0</td>\n",
              "      <td>0</td>\n",
              "      <td>0</td>\n",
              "      <td>0</td>\n",
              "      <td>0</td>\n",
              "      <td>0</td>\n",
              "      <td>0</td>\n",
              "      <td>0</td>\n",
              "      <td>-1</td>\n",
              "      <td>0</td>\n",
              "      <td>0</td>\n",
              "      <td>0</td>\n",
              "    </tr>\n",
              "    <tr>\n",
              "      <th>argi_suc_c</th>\n",
              "      <td>0</td>\n",
              "      <td>0</td>\n",
              "      <td>1</td>\n",
              "      <td>-1</td>\n",
              "      <td>0</td>\n",
              "      <td>0</td>\n",
              "      <td>0</td>\n",
              "      <td>0</td>\n",
              "      <td>0</td>\n",
              "      <td>0</td>\n",
              "      <td>0</td>\n",
              "      <td>0</td>\n",
              "      <td>0</td>\n",
              "      <td>0</td>\n",
              "      <td>0</td>\n",
              "      <td>0</td>\n",
              "      <td>0</td>\n",
              "    </tr>\n",
              "    <tr>\n",
              "      <th>fumarate_c</th>\n",
              "      <td>0</td>\n",
              "      <td>0</td>\n",
              "      <td>0</td>\n",
              "      <td>1</td>\n",
              "      <td>0</td>\n",
              "      <td>0</td>\n",
              "      <td>0</td>\n",
              "      <td>0</td>\n",
              "      <td>0</td>\n",
              "      <td>0</td>\n",
              "      <td>0</td>\n",
              "      <td>0</td>\n",
              "      <td>0</td>\n",
              "      <td>0</td>\n",
              "      <td>0</td>\n",
              "      <td>-1</td>\n",
              "      <td>0</td>\n",
              "    </tr>\n",
              "    <tr>\n",
              "      <th>arginine_c</th>\n",
              "      <td>0</td>\n",
              "      <td>0</td>\n",
              "      <td>0</td>\n",
              "      <td>1</td>\n",
              "      <td>-1</td>\n",
              "      <td>0</td>\n",
              "      <td>0</td>\n",
              "      <td>0</td>\n",
              "      <td>0</td>\n",
              "      <td>0</td>\n",
              "      <td>0</td>\n",
              "      <td>0</td>\n",
              "      <td>0</td>\n",
              "      <td>0</td>\n",
              "      <td>0</td>\n",
              "      <td>0</td>\n",
              "      <td>0</td>\n",
              "    </tr>\n",
              "    <tr>\n",
              "      <th>h2o_c</th>\n",
              "      <td>0</td>\n",
              "      <td>0</td>\n",
              "      <td>0</td>\n",
              "      <td>0</td>\n",
              "      <td>-1</td>\n",
              "      <td>0</td>\n",
              "      <td>0</td>\n",
              "      <td>0</td>\n",
              "      <td>0</td>\n",
              "      <td>1</td>\n",
              "      <td>0</td>\n",
              "      <td>0</td>\n",
              "      <td>0</td>\n",
              "      <td>0</td>\n",
              "      <td>0</td>\n",
              "      <td>0</td>\n",
              "      <td>0</td>\n",
              "    </tr>\n",
              "    <tr>\n",
              "      <th>urea_c</th>\n",
              "      <td>0</td>\n",
              "      <td>0</td>\n",
              "      <td>0</td>\n",
              "      <td>0</td>\n",
              "      <td>1</td>\n",
              "      <td>0</td>\n",
              "      <td>0</td>\n",
              "      <td>0</td>\n",
              "      <td>0</td>\n",
              "      <td>0</td>\n",
              "      <td>0</td>\n",
              "      <td>0</td>\n",
              "      <td>0</td>\n",
              "      <td>0</td>\n",
              "      <td>0</td>\n",
              "      <td>0</td>\n",
              "      <td>-1</td>\n",
              "    </tr>\n",
              "  </tbody>\n",
              "</table>\n",
              "</div>"
            ],
            "text/plain": [
              "             CPS  OTC  ASD  ALD  AG  hco3_in  nh4_in  atp_in  aspartate_in  \\\n",
              "nh4_m         -1    0    0    0   0        0       1       0             0   \n",
              "hco3_m        -1    0    0    0   0        1       0       0             0   \n",
              "atp           -2    0   -1    0   0        0       0       1             0   \n",
              "h              3    2    2    0   0        0       0       0             0   \n",
              "pi_m           1    1    0    0   0        0       0       0             0   \n",
              "adp_m          2    0    0    0   0        0       0       0             0   \n",
              "carb_phos_m    1   -1    0    0   0        0       0       0             0   \n",
              "ornithine      0   -1    0    0   1        0       0       0             0   \n",
              "citrulline     0    1   -1    0   0        0       0       0             0   \n",
              "aspartate_c    0    0   -1    0   0        0       0       0             1   \n",
              "ppi_c          0    0    1    0   0        0       0       0             0   \n",
              "amp_c          0    0    1    0   0        0       0       0             0   \n",
              "argi_suc_c     0    0    1   -1   0        0       0       0             0   \n",
              "fumarate_c     0    0    0    1   0        0       0       0             0   \n",
              "arginine_c     0    0    0    1  -1        0       0       0             0   \n",
              "h2o_c          0    0    0    0  -1        0       0       0             0   \n",
              "urea_c         0    0    0    0   1        0       0       0             0   \n",
              "\n",
              "             h2o_in  h_out  adp_out  pi_out  amp_out  ppi_out  fumarate_out  \\\n",
              "nh4_m             0      0        0       0        0        0             0   \n",
              "hco3_m            0      0        0       0        0        0             0   \n",
              "atp               0      0        0       0        0        0             0   \n",
              "h                 0     -1        0       0        0        0             0   \n",
              "pi_m              0      0        0      -1        0        0             0   \n",
              "adp_m             0      0       -1       0        0        0             0   \n",
              "carb_phos_m       0      0        0       0        0        0             0   \n",
              "ornithine         0      0        0       0        0        0             0   \n",
              "citrulline        0      0        0       0        0        0             0   \n",
              "aspartate_c       0      0        0       0        0        0             0   \n",
              "ppi_c             0      0        0       0        0       -1             0   \n",
              "amp_c             0      0        0       0       -1        0             0   \n",
              "argi_suc_c        0      0        0       0        0        0             0   \n",
              "fumarate_c        0      0        0       0        0        0            -1   \n",
              "arginine_c        0      0        0       0        0        0             0   \n",
              "h2o_c             1      0        0       0        0        0             0   \n",
              "urea_c            0      0        0       0        0        0             0   \n",
              "\n",
              "             urea_out  \n",
              "nh4_m               0  \n",
              "hco3_m              0  \n",
              "atp                 0  \n",
              "h                   0  \n",
              "pi_m                0  \n",
              "adp_m               0  \n",
              "carb_phos_m         0  \n",
              "ornithine           0  \n",
              "citrulline          0  \n",
              "aspartate_c         0  \n",
              "ppi_c               0  \n",
              "amp_c               0  \n",
              "argi_suc_c          0  \n",
              "fumarate_c          0  \n",
              "arginine_c          0  \n",
              "h2o_c               0  \n",
              "urea_c             -1  "
            ]
          },
          "metadata": {
            "tags": []
          },
          "execution_count": 88
        }
      ]
    },
    {
      "cell_type": "code",
      "metadata": {
        "colab": {
          "base_uri": "https://localhost:8080/"
        },
        "id": "Ewm-2F6e8goH",
        "outputId": "a72a9847-78f3-4e0e-fe5c-6542ddeb992a"
      },
      "source": [
        "print('Dimensions of matrix: ', model.S.shape)\n",
        "print('Rank of matrix: ', matrix_rank(model.S))"
      ],
      "execution_count": 89,
      "outputs": [
        {
          "output_type": "stream",
          "text": [
            "Dimensions of matrix:  (17, 17)\n",
            "Rank of matrix:  16\n"
          ],
          "name": "stdout"
        }
      ]
    },
    {
      "cell_type": "markdown",
      "metadata": {
        "id": "JVO04Td-8goI"
      },
      "source": [
        "## Check if the model is balanced"
      ]
    },
    {
      "cell_type": "code",
      "metadata": {
        "colab": {
          "base_uri": "https://localhost:8080/",
          "height": 0
        },
        "id": "TZ8u7UKo8goI",
        "outputId": "643cd789-1afc-49ee-c6a3-33d7bad0235e"
      },
      "source": [
        "# Show the elemental matrix\n",
        "table_3 = model.get_elemental_matrix(\n",
        "    array_type=\"DataFrame\", dtype=np.int64)\n",
        "table_3"
      ],
      "execution_count": 90,
      "outputs": [
        {
          "output_type": "execute_result",
          "data": {
            "text/html": [
              "<div>\n",
              "<style scoped>\n",
              "    .dataframe tbody tr th:only-of-type {\n",
              "        vertical-align: middle;\n",
              "    }\n",
              "\n",
              "    .dataframe tbody tr th {\n",
              "        vertical-align: top;\n",
              "    }\n",
              "\n",
              "    .dataframe thead th {\n",
              "        text-align: right;\n",
              "    }\n",
              "</style>\n",
              "<table border=\"1\" class=\"dataframe\">\n",
              "  <thead>\n",
              "    <tr style=\"text-align: right;\">\n",
              "      <th></th>\n",
              "      <th>nh4_m</th>\n",
              "      <th>hco3_m</th>\n",
              "      <th>atp</th>\n",
              "      <th>h</th>\n",
              "      <th>pi_m</th>\n",
              "      <th>adp_m</th>\n",
              "      <th>carb_phos_m</th>\n",
              "      <th>ornithine</th>\n",
              "      <th>citrulline</th>\n",
              "      <th>aspartate_c</th>\n",
              "      <th>ppi_c</th>\n",
              "      <th>amp_c</th>\n",
              "      <th>argi_suc_c</th>\n",
              "      <th>fumarate_c</th>\n",
              "      <th>arginine_c</th>\n",
              "      <th>h2o_c</th>\n",
              "      <th>urea_c</th>\n",
              "    </tr>\n",
              "  </thead>\n",
              "  <tbody>\n",
              "    <tr>\n",
              "      <th>C</th>\n",
              "      <td>0</td>\n",
              "      <td>1</td>\n",
              "      <td>10</td>\n",
              "      <td>0</td>\n",
              "      <td>0</td>\n",
              "      <td>10</td>\n",
              "      <td>1</td>\n",
              "      <td>5</td>\n",
              "      <td>6</td>\n",
              "      <td>4</td>\n",
              "      <td>0</td>\n",
              "      <td>10</td>\n",
              "      <td>10</td>\n",
              "      <td>4</td>\n",
              "      <td>6</td>\n",
              "      <td>0</td>\n",
              "      <td>1</td>\n",
              "    </tr>\n",
              "    <tr>\n",
              "      <th>H</th>\n",
              "      <td>4</td>\n",
              "      <td>1</td>\n",
              "      <td>12</td>\n",
              "      <td>1</td>\n",
              "      <td>0</td>\n",
              "      <td>12</td>\n",
              "      <td>2</td>\n",
              "      <td>13</td>\n",
              "      <td>13</td>\n",
              "      <td>6</td>\n",
              "      <td>0</td>\n",
              "      <td>12</td>\n",
              "      <td>17</td>\n",
              "      <td>2</td>\n",
              "      <td>15</td>\n",
              "      <td>2</td>\n",
              "      <td>4</td>\n",
              "    </tr>\n",
              "    <tr>\n",
              "      <th>O</th>\n",
              "      <td>0</td>\n",
              "      <td>3</td>\n",
              "      <td>13</td>\n",
              "      <td>0</td>\n",
              "      <td>4</td>\n",
              "      <td>10</td>\n",
              "      <td>5</td>\n",
              "      <td>2</td>\n",
              "      <td>3</td>\n",
              "      <td>4</td>\n",
              "      <td>7</td>\n",
              "      <td>7</td>\n",
              "      <td>6</td>\n",
              "      <td>4</td>\n",
              "      <td>2</td>\n",
              "      <td>1</td>\n",
              "      <td>1</td>\n",
              "    </tr>\n",
              "    <tr>\n",
              "      <th>P</th>\n",
              "      <td>0</td>\n",
              "      <td>0</td>\n",
              "      <td>3</td>\n",
              "      <td>0</td>\n",
              "      <td>1</td>\n",
              "      <td>2</td>\n",
              "      <td>1</td>\n",
              "      <td>0</td>\n",
              "      <td>0</td>\n",
              "      <td>0</td>\n",
              "      <td>2</td>\n",
              "      <td>1</td>\n",
              "      <td>0</td>\n",
              "      <td>0</td>\n",
              "      <td>0</td>\n",
              "      <td>0</td>\n",
              "      <td>0</td>\n",
              "    </tr>\n",
              "    <tr>\n",
              "      <th>N</th>\n",
              "      <td>1</td>\n",
              "      <td>0</td>\n",
              "      <td>5</td>\n",
              "      <td>0</td>\n",
              "      <td>0</td>\n",
              "      <td>5</td>\n",
              "      <td>1</td>\n",
              "      <td>2</td>\n",
              "      <td>3</td>\n",
              "      <td>1</td>\n",
              "      <td>0</td>\n",
              "      <td>5</td>\n",
              "      <td>4</td>\n",
              "      <td>0</td>\n",
              "      <td>4</td>\n",
              "      <td>0</td>\n",
              "      <td>2</td>\n",
              "    </tr>\n",
              "    <tr>\n",
              "      <th>S</th>\n",
              "      <td>0</td>\n",
              "      <td>0</td>\n",
              "      <td>0</td>\n",
              "      <td>0</td>\n",
              "      <td>0</td>\n",
              "      <td>0</td>\n",
              "      <td>0</td>\n",
              "      <td>0</td>\n",
              "      <td>0</td>\n",
              "      <td>0</td>\n",
              "      <td>0</td>\n",
              "      <td>0</td>\n",
              "      <td>0</td>\n",
              "      <td>0</td>\n",
              "      <td>0</td>\n",
              "      <td>0</td>\n",
              "      <td>0</td>\n",
              "    </tr>\n",
              "    <tr>\n",
              "      <th>q</th>\n",
              "      <td>1</td>\n",
              "      <td>-1</td>\n",
              "      <td>-4</td>\n",
              "      <td>1</td>\n",
              "      <td>-3</td>\n",
              "      <td>-3</td>\n",
              "      <td>-2</td>\n",
              "      <td>1</td>\n",
              "      <td>0</td>\n",
              "      <td>-1</td>\n",
              "      <td>-4</td>\n",
              "      <td>-2</td>\n",
              "      <td>-1</td>\n",
              "      <td>-2</td>\n",
              "      <td>1</td>\n",
              "      <td>0</td>\n",
              "      <td>0</td>\n",
              "    </tr>\n",
              "  </tbody>\n",
              "</table>\n",
              "</div>"
            ],
            "text/plain": [
              "   nh4_m  hco3_m  atp  h  pi_m  adp_m  carb_phos_m  ornithine  citrulline  \\\n",
              "C      0       1   10  0     0     10            1          5           6   \n",
              "H      4       1   12  1     0     12            2         13          13   \n",
              "O      0       3   13  0     4     10            5          2           3   \n",
              "P      0       0    3  0     1      2            1          0           0   \n",
              "N      1       0    5  0     0      5            1          2           3   \n",
              "S      0       0    0  0     0      0            0          0           0   \n",
              "q      1      -1   -4  1    -3     -3           -2          1           0   \n",
              "\n",
              "   aspartate_c  ppi_c  amp_c  argi_suc_c  fumarate_c  arginine_c  h2o_c  \\\n",
              "C            4      0     10          10           4           6      0   \n",
              "H            6      0     12          17           2          15      2   \n",
              "O            4      7      7           6           4           2      1   \n",
              "P            0      2      1           0           0           0      0   \n",
              "N            1      0      5           4           0           4      0   \n",
              "S            0      0      0           0           0           0      0   \n",
              "q           -1     -4     -2          -1          -2           1      0   \n",
              "\n",
              "   urea_c  \n",
              "C       1  \n",
              "H       4  \n",
              "O       1  \n",
              "P       0  \n",
              "N       2  \n",
              "S       0  \n",
              "q       0  "
            ]
          },
          "metadata": {
            "tags": []
          },
          "execution_count": 90
        }
      ]
    },
    {
      "cell_type": "code",
      "metadata": {
        "colab": {
          "base_uri": "https://localhost:8080/",
          "height": 0
        },
        "id": "gEDrJK8k8goI",
        "outputId": "3ef8fee7-e04d-449f-8df2-d36793271adf"
      },
      "source": [
        "# Check if the model is elementally and charge balanced\n",
        "table_4 = model.get_elemental_charge_balancing(\n",
        "    array_type=\"DataFrame\", dtype=np.int64)\n",
        "table_4"
      ],
      "execution_count": 91,
      "outputs": [
        {
          "output_type": "execute_result",
          "data": {
            "text/html": [
              "<div>\n",
              "<style scoped>\n",
              "    .dataframe tbody tr th:only-of-type {\n",
              "        vertical-align: middle;\n",
              "    }\n",
              "\n",
              "    .dataframe tbody tr th {\n",
              "        vertical-align: top;\n",
              "    }\n",
              "\n",
              "    .dataframe thead th {\n",
              "        text-align: right;\n",
              "    }\n",
              "</style>\n",
              "<table border=\"1\" class=\"dataframe\">\n",
              "  <thead>\n",
              "    <tr style=\"text-align: right;\">\n",
              "      <th></th>\n",
              "      <th>CPS</th>\n",
              "      <th>OTC</th>\n",
              "      <th>ASD</th>\n",
              "      <th>ALD</th>\n",
              "      <th>AG</th>\n",
              "      <th>hco3_in</th>\n",
              "      <th>nh4_in</th>\n",
              "      <th>atp_in</th>\n",
              "      <th>aspartate_in</th>\n",
              "      <th>h2o_in</th>\n",
              "      <th>h_out</th>\n",
              "      <th>adp_out</th>\n",
              "      <th>pi_out</th>\n",
              "      <th>amp_out</th>\n",
              "      <th>ppi_out</th>\n",
              "      <th>fumarate_out</th>\n",
              "      <th>urea_out</th>\n",
              "    </tr>\n",
              "  </thead>\n",
              "  <tbody>\n",
              "    <tr>\n",
              "      <th>C</th>\n",
              "      <td>0</td>\n",
              "      <td>0</td>\n",
              "      <td>0</td>\n",
              "      <td>0</td>\n",
              "      <td>0</td>\n",
              "      <td>1</td>\n",
              "      <td>0</td>\n",
              "      <td>10</td>\n",
              "      <td>4</td>\n",
              "      <td>0</td>\n",
              "      <td>0</td>\n",
              "      <td>-10</td>\n",
              "      <td>0</td>\n",
              "      <td>-10</td>\n",
              "      <td>0</td>\n",
              "      <td>-4</td>\n",
              "      <td>-1</td>\n",
              "    </tr>\n",
              "    <tr>\n",
              "      <th>H</th>\n",
              "      <td>0</td>\n",
              "      <td>0</td>\n",
              "      <td>0</td>\n",
              "      <td>0</td>\n",
              "      <td>0</td>\n",
              "      <td>1</td>\n",
              "      <td>4</td>\n",
              "      <td>12</td>\n",
              "      <td>6</td>\n",
              "      <td>2</td>\n",
              "      <td>-1</td>\n",
              "      <td>-12</td>\n",
              "      <td>0</td>\n",
              "      <td>-12</td>\n",
              "      <td>0</td>\n",
              "      <td>-2</td>\n",
              "      <td>-4</td>\n",
              "    </tr>\n",
              "    <tr>\n",
              "      <th>O</th>\n",
              "      <td>0</td>\n",
              "      <td>0</td>\n",
              "      <td>0</td>\n",
              "      <td>0</td>\n",
              "      <td>0</td>\n",
              "      <td>3</td>\n",
              "      <td>0</td>\n",
              "      <td>13</td>\n",
              "      <td>4</td>\n",
              "      <td>1</td>\n",
              "      <td>0</td>\n",
              "      <td>-10</td>\n",
              "      <td>-4</td>\n",
              "      <td>-7</td>\n",
              "      <td>-7</td>\n",
              "      <td>-4</td>\n",
              "      <td>-1</td>\n",
              "    </tr>\n",
              "    <tr>\n",
              "      <th>P</th>\n",
              "      <td>0</td>\n",
              "      <td>0</td>\n",
              "      <td>0</td>\n",
              "      <td>0</td>\n",
              "      <td>0</td>\n",
              "      <td>0</td>\n",
              "      <td>0</td>\n",
              "      <td>3</td>\n",
              "      <td>0</td>\n",
              "      <td>0</td>\n",
              "      <td>0</td>\n",
              "      <td>-2</td>\n",
              "      <td>-1</td>\n",
              "      <td>-1</td>\n",
              "      <td>-2</td>\n",
              "      <td>0</td>\n",
              "      <td>0</td>\n",
              "    </tr>\n",
              "    <tr>\n",
              "      <th>N</th>\n",
              "      <td>0</td>\n",
              "      <td>0</td>\n",
              "      <td>0</td>\n",
              "      <td>0</td>\n",
              "      <td>0</td>\n",
              "      <td>0</td>\n",
              "      <td>1</td>\n",
              "      <td>5</td>\n",
              "      <td>1</td>\n",
              "      <td>0</td>\n",
              "      <td>0</td>\n",
              "      <td>-5</td>\n",
              "      <td>0</td>\n",
              "      <td>-5</td>\n",
              "      <td>0</td>\n",
              "      <td>0</td>\n",
              "      <td>-2</td>\n",
              "    </tr>\n",
              "    <tr>\n",
              "      <th>S</th>\n",
              "      <td>0</td>\n",
              "      <td>0</td>\n",
              "      <td>0</td>\n",
              "      <td>0</td>\n",
              "      <td>0</td>\n",
              "      <td>0</td>\n",
              "      <td>0</td>\n",
              "      <td>0</td>\n",
              "      <td>0</td>\n",
              "      <td>0</td>\n",
              "      <td>0</td>\n",
              "      <td>0</td>\n",
              "      <td>0</td>\n",
              "      <td>0</td>\n",
              "      <td>0</td>\n",
              "      <td>0</td>\n",
              "      <td>0</td>\n",
              "    </tr>\n",
              "    <tr>\n",
              "      <th>q</th>\n",
              "      <td>0</td>\n",
              "      <td>0</td>\n",
              "      <td>0</td>\n",
              "      <td>0</td>\n",
              "      <td>0</td>\n",
              "      <td>-1</td>\n",
              "      <td>1</td>\n",
              "      <td>-4</td>\n",
              "      <td>-1</td>\n",
              "      <td>0</td>\n",
              "      <td>-1</td>\n",
              "      <td>3</td>\n",
              "      <td>3</td>\n",
              "      <td>2</td>\n",
              "      <td>4</td>\n",
              "      <td>2</td>\n",
              "      <td>0</td>\n",
              "    </tr>\n",
              "  </tbody>\n",
              "</table>\n",
              "</div>"
            ],
            "text/plain": [
              "   CPS  OTC  ASD  ALD  AG  hco3_in  nh4_in  atp_in  aspartate_in  h2o_in  \\\n",
              "C    0    0    0    0   0        1       0      10             4       0   \n",
              "H    0    0    0    0   0        1       4      12             6       2   \n",
              "O    0    0    0    0   0        3       0      13             4       1   \n",
              "P    0    0    0    0   0        0       0       3             0       0   \n",
              "N    0    0    0    0   0        0       1       5             1       0   \n",
              "S    0    0    0    0   0        0       0       0             0       0   \n",
              "q    0    0    0    0   0       -1       1      -4            -1       0   \n",
              "\n",
              "   h_out  adp_out  pi_out  amp_out  ppi_out  fumarate_out  urea_out  \n",
              "C      0      -10       0      -10        0            -4        -1  \n",
              "H     -1      -12       0      -12        0            -2        -4  \n",
              "O      0      -10      -4       -7       -7            -4        -1  \n",
              "P      0       -2      -1       -1       -2             0         0  \n",
              "N      0       -5       0       -5        0             0        -2  \n",
              "S      0        0       0        0        0             0         0  \n",
              "q     -1        3       3        2        4             2         0  "
            ]
          },
          "metadata": {
            "tags": []
          },
          "execution_count": 91
        }
      ]
    },
    {
      "cell_type": "markdown",
      "metadata": {
        "id": "uizTBMt98goJ"
      },
      "source": [
        "## Inspect the nullspace"
      ]
    },
    {
      "cell_type": "code",
      "metadata": {
        "execution": {
          "iopub.execute_input": "2020-10-20T20:22:56.628964Z",
          "iopub.status.busy": "2020-10-20T20:22:56.628141Z",
          "iopub.status.idle": "2020-10-20T20:22:56.631225Z",
          "shell.execute_reply": "2020-10-20T20:22:56.631669Z"
        },
        "colab": {
          "base_uri": "https://localhost:8080/",
          "height": 0
        },
        "id": "Tj_6B8zS8goJ",
        "outputId": "2d7ded64-065b-490f-9b17-acae202d8da1"
      },
      "source": [
        "# Get the null space\n",
        "ns = nullspace(model.S)\n",
        "\n",
        "# Divide by the minimum and round to nearest integer\n",
        "ns = np.rint(ns / np.min(ns[np.nonzero(ns)]))\n",
        "\n",
        "# Show the nullspace\n",
        "table_5 = pd.DataFrame(\n",
        "    ns, index=model.reactions.list_attr(\"id\"),\n",
        "    columns=[\"Pathway 1\"], dtype=np.int_).T\n",
        "table_5"
      ],
      "execution_count": 92,
      "outputs": [
        {
          "output_type": "execute_result",
          "data": {
            "text/html": [
              "<div>\n",
              "<style scoped>\n",
              "    .dataframe tbody tr th:only-of-type {\n",
              "        vertical-align: middle;\n",
              "    }\n",
              "\n",
              "    .dataframe tbody tr th {\n",
              "        vertical-align: top;\n",
              "    }\n",
              "\n",
              "    .dataframe thead th {\n",
              "        text-align: right;\n",
              "    }\n",
              "</style>\n",
              "<table border=\"1\" class=\"dataframe\">\n",
              "  <thead>\n",
              "    <tr style=\"text-align: right;\">\n",
              "      <th></th>\n",
              "      <th>CPS</th>\n",
              "      <th>OTC</th>\n",
              "      <th>ASD</th>\n",
              "      <th>ALD</th>\n",
              "      <th>AG</th>\n",
              "      <th>hco3_in</th>\n",
              "      <th>nh4_in</th>\n",
              "      <th>atp_in</th>\n",
              "      <th>aspartate_in</th>\n",
              "      <th>h2o_in</th>\n",
              "      <th>h_out</th>\n",
              "      <th>adp_out</th>\n",
              "      <th>pi_out</th>\n",
              "      <th>amp_out</th>\n",
              "      <th>ppi_out</th>\n",
              "      <th>fumarate_out</th>\n",
              "      <th>urea_out</th>\n",
              "    </tr>\n",
              "  </thead>\n",
              "  <tbody>\n",
              "    <tr>\n",
              "      <th>Pathway 1</th>\n",
              "      <td>1</td>\n",
              "      <td>1</td>\n",
              "      <td>1</td>\n",
              "      <td>1</td>\n",
              "      <td>1</td>\n",
              "      <td>1</td>\n",
              "      <td>1</td>\n",
              "      <td>3</td>\n",
              "      <td>1</td>\n",
              "      <td>1</td>\n",
              "      <td>7</td>\n",
              "      <td>2</td>\n",
              "      <td>2</td>\n",
              "      <td>1</td>\n",
              "      <td>1</td>\n",
              "      <td>1</td>\n",
              "      <td>1</td>\n",
              "    </tr>\n",
              "  </tbody>\n",
              "</table>\n",
              "</div>"
            ],
            "text/plain": [
              "           CPS  OTC  ASD  ALD  AG  hco3_in  nh4_in  atp_in  aspartate_in  \\\n",
              "Pathway 1    1    1    1    1   1        1       1       3             1   \n",
              "\n",
              "           h2o_in  h_out  adp_out  pi_out  amp_out  ppi_out  fumarate_out  \\\n",
              "Pathway 1       1      7        2       2        1        1             1   \n",
              "\n",
              "           urea_out  \n",
              "Pathway 1         1  "
            ]
          },
          "metadata": {
            "tags": []
          },
          "execution_count": 92
        }
      ]
    },
    {
      "cell_type": "code",
      "metadata": {
        "colab": {
          "base_uri": "https://localhost:8080/",
          "height": 0
        },
        "id": "9AArnbVt8goJ",
        "outputId": "e0511055-0ccb-4c33-f2ca-3026826e4ab5"
      },
      "source": [
        "# Check if the found pathway is balanced\n",
        "table_6 = model.get_elemental_charge_balancing(\n",
        "    array_type=\"DataFrame\").dot(ns).astype(np.int64)\n",
        "table_6.columns = ['Pathway 1']\n",
        "table_6"
      ],
      "execution_count": 93,
      "outputs": [
        {
          "output_type": "execute_result",
          "data": {
            "text/html": [
              "<div>\n",
              "<style scoped>\n",
              "    .dataframe tbody tr th:only-of-type {\n",
              "        vertical-align: middle;\n",
              "    }\n",
              "\n",
              "    .dataframe tbody tr th {\n",
              "        vertical-align: top;\n",
              "    }\n",
              "\n",
              "    .dataframe thead th {\n",
              "        text-align: right;\n",
              "    }\n",
              "</style>\n",
              "<table border=\"1\" class=\"dataframe\">\n",
              "  <thead>\n",
              "    <tr style=\"text-align: right;\">\n",
              "      <th></th>\n",
              "      <th>Pathway 1</th>\n",
              "    </tr>\n",
              "  </thead>\n",
              "  <tbody>\n",
              "    <tr>\n",
              "      <th>C</th>\n",
              "      <td>0</td>\n",
              "    </tr>\n",
              "    <tr>\n",
              "      <th>H</th>\n",
              "      <td>0</td>\n",
              "    </tr>\n",
              "    <tr>\n",
              "      <th>O</th>\n",
              "      <td>0</td>\n",
              "    </tr>\n",
              "    <tr>\n",
              "      <th>P</th>\n",
              "      <td>0</td>\n",
              "    </tr>\n",
              "    <tr>\n",
              "      <th>N</th>\n",
              "      <td>0</td>\n",
              "    </tr>\n",
              "    <tr>\n",
              "      <th>S</th>\n",
              "      <td>0</td>\n",
              "    </tr>\n",
              "    <tr>\n",
              "      <th>q</th>\n",
              "      <td>0</td>\n",
              "    </tr>\n",
              "  </tbody>\n",
              "</table>\n",
              "</div>"
            ],
            "text/plain": [
              "   Pathway 1\n",
              "C          0\n",
              "H          0\n",
              "O          0\n",
              "P          0\n",
              "N          0\n",
              "S          0\n",
              "q          0"
            ]
          },
          "metadata": {
            "tags": []
          },
          "execution_count": 93
        }
      ]
    },
    {
      "cell_type": "markdown",
      "metadata": {
        "id": "8NBBgHHm8goJ"
      },
      "source": [
        "## Inspect the left nullspace"
      ]
    },
    {
      "cell_type": "code",
      "metadata": {
        "execution": {
          "iopub.execute_input": "2020-10-20T20:22:56.641681Z",
          "iopub.status.busy": "2020-10-20T20:22:56.640959Z",
          "iopub.status.idle": "2020-10-20T20:22:56.643845Z",
          "shell.execute_reply": "2020-10-20T20:22:56.644459Z"
        },
        "colab": {
          "base_uri": "https://localhost:8080/",
          "height": 0
        },
        "id": "kjt879SR8goK",
        "outputId": "37f24050-d630-4dd7-91e8-27e248759696"
      },
      "source": [
        "# Get the left nullspace\n",
        "lns = left_nullspace(model.S, rtol=1e-10)\n",
        "\n",
        "# Iterate through left nullspace, dividing by the smallest value in each row.\n",
        "for i, row in enumerate(lns):\n",
        "    minval = np.min(abs(row[np.nonzero(row)]))\n",
        "    new_row = np.array(row/minval)\n",
        "    # Round to ensure the left nullspace is composed of only integers\n",
        "    lns[i] = np.array([round(value) for value in new_row])\n",
        "\n",
        "# Ensure positive stoichiometric coefficients if all are negative\n",
        "for i, space in enumerate(lns):\n",
        "    lns[i] = np.negative(space) if all([num <= 0 for num in space]) else space\n",
        "\n",
        "# Show the left nullspace\n",
        "lns = lns.astype(np.int64)\n",
        "table_7 = pd.DataFrame(lns, columns=metabolite_ids)\n",
        "table_7"
      ],
      "execution_count": 94,
      "outputs": [
        {
          "output_type": "execute_result",
          "data": {
            "text/html": [
              "<div>\n",
              "<style scoped>\n",
              "    .dataframe tbody tr th:only-of-type {\n",
              "        vertical-align: middle;\n",
              "    }\n",
              "\n",
              "    .dataframe tbody tr th {\n",
              "        vertical-align: top;\n",
              "    }\n",
              "\n",
              "    .dataframe thead th {\n",
              "        text-align: right;\n",
              "    }\n",
              "</style>\n",
              "<table border=\"1\" class=\"dataframe\">\n",
              "  <thead>\n",
              "    <tr style=\"text-align: right;\">\n",
              "      <th></th>\n",
              "      <th>nh4_m</th>\n",
              "      <th>hco3_m</th>\n",
              "      <th>atp</th>\n",
              "      <th>h</th>\n",
              "      <th>pi_m</th>\n",
              "      <th>adp_m</th>\n",
              "      <th>carb_phos_m</th>\n",
              "      <th>ornithine</th>\n",
              "      <th>citrulline</th>\n",
              "      <th>aspartate_c</th>\n",
              "      <th>ppi_c</th>\n",
              "      <th>amp_c</th>\n",
              "      <th>argi_suc_c</th>\n",
              "      <th>fumarate_c</th>\n",
              "      <th>arginine_c</th>\n",
              "      <th>h2o_c</th>\n",
              "      <th>urea_c</th>\n",
              "    </tr>\n",
              "  </thead>\n",
              "  <tbody>\n",
              "    <tr>\n",
              "      <th>0</th>\n",
              "      <td>0</td>\n",
              "      <td>0</td>\n",
              "      <td>0</td>\n",
              "      <td>0</td>\n",
              "      <td>0</td>\n",
              "      <td>0</td>\n",
              "      <td>0</td>\n",
              "      <td>1</td>\n",
              "      <td>1</td>\n",
              "      <td>0</td>\n",
              "      <td>0</td>\n",
              "      <td>0</td>\n",
              "      <td>1</td>\n",
              "      <td>0</td>\n",
              "      <td>1</td>\n",
              "      <td>0</td>\n",
              "      <td>0</td>\n",
              "    </tr>\n",
              "  </tbody>\n",
              "</table>\n",
              "</div>"
            ],
            "text/plain": [
              "   nh4_m  hco3_m  atp  h  pi_m  adp_m  carb_phos_m  ornithine  citrulline  \\\n",
              "0      0       0    0  0     0      0            0          1           1   \n",
              "\n",
              "   aspartate_c  ppi_c  amp_c  argi_suc_c  fumarate_c  arginine_c  h2o_c  \\\n",
              "0            0      0      0           1           0           1      0   \n",
              "\n",
              "   urea_c  \n",
              "0       0  "
            ]
          },
          "metadata": {
            "tags": []
          },
          "execution_count": 94
        }
      ]
    },
    {
      "cell_type": "markdown",
      "metadata": {
        "id": "9gFs0ED68goK"
      },
      "source": [
        "# Add compartments and units"
      ]
    },
    {
      "cell_type": "markdown",
      "metadata": {
        "id": "4_onafvd8goL"
      },
      "source": [
        "## Add compartments"
      ]
    },
    {
      "cell_type": "code",
      "metadata": {
        "colab": {
          "base_uri": "https://localhost:8080/"
        },
        "id": "UzUsIL4Z8goL",
        "outputId": "12315fa8-1a75-4c37-a7e4-aabbc8d18aa1"
      },
      "source": [
        "model.compartments = {\"c\": \"cytosol\", \"m\": \"mitochondria\", \"both\": \"both\"}\n",
        "model.compartments"
      ],
      "execution_count": 95,
      "outputs": [
        {
          "output_type": "execute_result",
          "data": {
            "text/plain": [
              "{'both': 'both', 'c': 'cytosol', 'm': 'mitochondria'}"
            ]
          },
          "metadata": {
            "tags": []
          },
          "execution_count": 95
        }
      ]
    },
    {
      "cell_type": "markdown",
      "metadata": {
        "id": "Yj6YHgwj8goL"
      },
      "source": [
        "## Add units"
      ]
    },
    {
      "cell_type": "code",
      "metadata": {
        "colab": {
          "base_uri": "https://localhost:8080/"
        },
        "id": "o3EZn_Gl8goM",
        "outputId": "09cd104d-8d77-4a77-98ad-f8415cc84a2c"
      },
      "source": [
        "# Check the default units\n",
        "print_defined_unit_values(\"BaseUnitKinds\")"
      ],
      "execution_count": 96,
      "outputs": [
        {
          "output_type": "stream",
          "text": [
            "╒═════════════════════════════╕\n",
            "│ SBML Base Unit Kinds        │\n",
            "╞═════════════════════════════╡\n",
            "│ Base Unit        SBML Value │\n",
            "│ -------------  ------------ │\n",
            "│ ampere                    0 │\n",
            "│ avogadro                  1 │\n",
            "│ becquerel                 2 │\n",
            "│ candela                   3 │\n",
            "│ coulomb                   5 │\n",
            "│ dimensionless             6 │\n",
            "│ farad                     7 │\n",
            "│ gram                      8 │\n",
            "│ gray                      9 │\n",
            "│ henry                    10 │\n",
            "│ hertz                    11 │\n",
            "│ item                     12 │\n",
            "│ joule                    13 │\n",
            "│ katal                    14 │\n",
            "│ kelvin                   15 │\n",
            "│ kilogram                 16 │\n",
            "│ liter                    17 │\n",
            "│ litre                    18 │\n",
            "│ lumen                    19 │\n",
            "│ lux                      20 │\n",
            "│ meter                    21 │\n",
            "│ metre                    22 │\n",
            "│ mole                     23 │\n",
            "│ newton                   24 │\n",
            "│ ohm                      25 │\n",
            "│ pascal                   26 │\n",
            "│ radian                   27 │\n",
            "│ second                   28 │\n",
            "│ siemens                  29 │\n",
            "│ sievert                  30 │\n",
            "│ steradian                31 │\n",
            "│ tesla                    32 │\n",
            "│ volt                     33 │\n",
            "│ watt                     34 │\n",
            "│ weber                    35 │\n",
            "│ invalid                  36 │\n",
            "╘═════════════════════════════╛\n"
          ],
          "name": "stdout"
        }
      ]
    },
    {
      "cell_type": "code",
      "metadata": {
        "colab": {
          "base_uri": "https://localhost:8080/"
        },
        "id": "TVzhsPQX8goM",
        "outputId": "27d38649-b34f-4a2a-94b3-3ce063b2ccfc"
      },
      "source": [
        "# Create concentration unit\n",
        "millimole = Unit(kind=\"mole\", exponent=1, scale=-3, multiplier=1)\n",
        "per_liter = Unit(kind=\"liter\", exponent=-1, scale=1, multiplier=1)\n",
        "\n",
        "concentration_unit = UnitDefinition(id=\"mM\", name=\"Millimolar\",\n",
        "                                    list_of_units=[millimole, per_liter])\n",
        "print('Concentration unit')\n",
        "print(\"{0}:\\n{1!r}\\n{2!r}\".format(\n",
        "    concentration_unit.name, *concentration_unit.list_of_units))\n",
        "\n",
        "# Create time unit\n",
        "time_unit = UnitDefinition(id=\"min\", name=\"Minute\")\n",
        "time_unit.create_unit(kind=\"second\", exponent=1, scale=1, multiplier=60)\n",
        "print('Time unit')\n",
        "print(time_unit)\n",
        "print(time_unit.list_of_units)\n",
        "\n",
        "# Add units to the model\n",
        "model.add_units([concentration_unit, time_unit])\n",
        "model.units"
      ],
      "execution_count": 97,
      "outputs": [
        {
          "output_type": "stream",
          "text": [
            "Concentration unit\n",
            "Millimolar:\n",
            "<Unit at 0x7f01765de190 kind: liter; exponent: -1; scale: 1; multiplier: 1>\n",
            "<Unit at 0x7f01765de850 kind: mole; exponent: 1; scale: -3; multiplier: 1>\n",
            "Time unit\n",
            "min\n",
            "[<Unit at 0x7f01762a28d0 kind: second; exponent: 1; scale: 1; multiplier: 60>]\n"
          ],
          "name": "stdout"
        },
        {
          "output_type": "execute_result",
          "data": {
            "text/plain": [
              "[<UnitDefinition Millimolar \"mM\" at 0x7f01765dec50>,\n",
              " <UnitDefinition Minute \"min\" at 0x7f01733a6710>]"
            ]
          },
          "metadata": {
            "tags": []
          },
          "execution_count": 97
        }
      ]
    },
    {
      "cell_type": "markdown",
      "metadata": {
        "id": "nmkxUE1B8goN"
      },
      "source": [
        "# Ensure model completeness"
      ]
    },
    {
      "cell_type": "markdown",
      "metadata": {
        "id": "B-n9101R8goN"
      },
      "source": [
        "## Check the model"
      ]
    },
    {
      "cell_type": "code",
      "metadata": {
        "colab": {
          "base_uri": "https://localhost:8080/",
          "height": 234
        },
        "id": "TvrnWVPF8goN",
        "outputId": "8c5317d6-25e5-4eca-dd45-e476c8b8a0e7"
      },
      "source": [
        "model"
      ],
      "execution_count": 98,
      "outputs": [
        {
          "output_type": "execute_result",
          "data": {
            "text/html": [
              "\n",
              "            <table>\n",
              "                <tr>\n",
              "                    <td><strong>Name</strong></td><td>Urea_Cycle</td>\n",
              "                </tr><tr>\n",
              "                    <td><strong>Memory address</strong></td><td>0x07f01765facd0</td>\n",
              "                </tr><tr>\n",
              "                    <td><strong>Stoichiometric Matrix</strong></td>\n",
              "                    <td>17x17</td>\n",
              "                </tr><tr>\n",
              "                    <td><strong>Matrix Rank</strong></td>\n",
              "                    <td>16</td>\n",
              "                </tr><tr>\n",
              "                    <td><strong>Number of metabolites</strong></td>\n",
              "                    <td>17</td>\n",
              "                </tr><tr>\n",
              "                    <td><strong>Initial conditions defined</strong></td>\n",
              "                    <td>17/17</td>\n",
              "                </tr><tr>\n",
              "                    <td><strong>Number of reactions</strong></td>\n",
              "                    <td>17</td>\n",
              "                </tr><tr>\n",
              "                    <td><strong>Number of genes</strong></td>\n",
              "                    <td>0</td>\n",
              "                </tr><tr>\n",
              "                    <td><strong>Number of enzyme modules</strong></td>\n",
              "                    <td>0</td>\n",
              "                </tr><tr>\n",
              "                    <td><strong>Number of groups</strong></td>\n",
              "                    <td>0</td>\n",
              "                </tr><tr>\n",
              "                    <td><strong>Objective expression</strong></td>\n",
              "                    <td>0</td>\n",
              "                </tr><tr>\n",
              "                    <td><strong>Compartments</strong></td>\n",
              "                    <td>mitochondria, both, cytosol</td>\n",
              "                </tr>\n",
              "            </table>\n",
              "        "
            ],
            "text/plain": [
              "<MassModel Urea_Cycle at 0x7f01765facd0>"
            ]
          },
          "metadata": {
            "tags": []
          },
          "execution_count": 98
        }
      ]
    },
    {
      "cell_type": "markdown",
      "metadata": {
        "id": "5J8BX2Da8goN"
      },
      "source": [
        "## Check the expressions for reaction rates"
      ]
    },
    {
      "cell_type": "code",
      "metadata": {
        "execution": {
          "iopub.execute_input": "2020-10-20T20:22:56.870186Z",
          "iopub.status.busy": "2020-10-20T20:22:56.869497Z",
          "iopub.status.idle": "2020-10-20T20:22:56.872071Z",
          "shell.execute_reply": "2020-10-20T20:22:56.872516Z"
        },
        "colab": {
          "base_uri": "https://localhost:8080/"
        },
        "id": "I5wphMF98goO",
        "outputId": "2d5144b2-e0b8-4c6f-cd49-6f89ef4ea28a"
      },
      "source": [
        "# Check the rates of reactions\n",
        "for reaction, rate in model.rates.items():\n",
        "    print(f\"{reaction.id}: {rate}\")"
      ],
      "execution_count": 99,
      "outputs": [
        {
          "output_type": "stream",
          "text": [
            "CPS: kf_CPS*atp(t)**2*hco3_m(t)*nh4_m(t)\n",
            "OTC: kf_OTC*carb_phos_m(t)*ornithine(t)\n",
            "ASD: kf_ASD*aspartate_c(t)*atp(t)*citrulline(t)\n",
            "ALD: kf_ALD*argi_suc_c(t)\n",
            "AG: kf_AG*arginine_c(t)\n",
            "hco3_in: hco3_b*kf_hco3_in\n",
            "nh4_in: kf_nh4_in*nh4_b\n",
            "atp_in: atp_b*kf_atp_in\n",
            "aspartate_in: aspartate_b*kf_aspartate_in\n",
            "h2o_in: h2o_b*kf_h2o_in\n",
            "h_out: kf_h_out*h(t)\n",
            "adp_out: kf_adp_out*adp_m(t)\n",
            "pi_out: kf_pi_out*pi_m(t)\n",
            "amp_out: kf_amp_out*amp_c(t)\n",
            "ppi_out: kf_ppi_out*ppi_c(t)\n",
            "fumarate_out: kf_fumarate_out*fumarate_c(t)\n",
            "urea_out: kf_urea_out*urea_c(t)\n"
          ],
          "name": "stdout"
        }
      ]
    },
    {
      "cell_type": "markdown",
      "metadata": {
        "id": "BjvRqLki8goO"
      },
      "source": [
        "## Check metabolites ODEs"
      ]
    },
    {
      "cell_type": "code",
      "metadata": {
        "execution": {
          "iopub.execute_input": "2020-10-20T20:22:56.904642Z",
          "iopub.status.busy": "2020-10-20T20:22:56.903931Z",
          "iopub.status.idle": "2020-10-20T20:22:56.907033Z",
          "shell.execute_reply": "2020-10-20T20:22:56.906596Z"
        },
        "scrolled": false,
        "colab": {
          "base_uri": "https://localhost:8080/"
        },
        "id": "L_IUFzlZ8goO",
        "outputId": "5e7471a1-e17d-4b4a-841a-d529b579ea27"
      },
      "source": [
        "# Check the ODE of each metabolite\n",
        "for metabolite, ode in model.odes.items():\n",
        "    print(f\"{metabolite.id}: {ode}\")"
      ],
      "execution_count": 100,
      "outputs": [
        {
          "output_type": "stream",
          "text": [
            "nh4_m: -kf_CPS*atp(t)**2*hco3_m(t)*nh4_m(t) + kf_nh4_in*nh4_b\n",
            "hco3_m: hco3_b*kf_hco3_in - kf_CPS*atp(t)**2*hco3_m(t)*nh4_m(t)\n",
            "atp: atp_b*kf_atp_in - kf_ASD*aspartate_c(t)*atp(t)*citrulline(t) - 2*kf_CPS*atp(t)**2*hco3_m(t)*nh4_m(t)\n",
            "h: 2*kf_ASD*aspartate_c(t)*atp(t)*citrulline(t) + 3*kf_CPS*atp(t)**2*hco3_m(t)*nh4_m(t) + 2*kf_OTC*carb_phos_m(t)*ornithine(t) - kf_h_out*h(t)\n",
            "pi_m: kf_CPS*atp(t)**2*hco3_m(t)*nh4_m(t) + kf_OTC*carb_phos_m(t)*ornithine(t) - kf_pi_out*pi_m(t)\n",
            "adp_m: 2*kf_CPS*atp(t)**2*hco3_m(t)*nh4_m(t) - kf_adp_out*adp_m(t)\n",
            "carb_phos_m: kf_CPS*atp(t)**2*hco3_m(t)*nh4_m(t) - kf_OTC*carb_phos_m(t)*ornithine(t)\n",
            "ornithine: kf_AG*arginine_c(t) - kf_OTC*carb_phos_m(t)*ornithine(t)\n",
            "citrulline: -kf_ASD*aspartate_c(t)*atp(t)*citrulline(t) + kf_OTC*carb_phos_m(t)*ornithine(t)\n",
            "aspartate_c: aspartate_b*kf_aspartate_in - kf_ASD*aspartate_c(t)*atp(t)*citrulline(t)\n",
            "ppi_c: kf_ASD*aspartate_c(t)*atp(t)*citrulline(t) - kf_ppi_out*ppi_c(t)\n",
            "amp_c: kf_ASD*aspartate_c(t)*atp(t)*citrulline(t) - kf_amp_out*amp_c(t)\n",
            "argi_suc_c: -kf_ALD*argi_suc_c(t) + kf_ASD*aspartate_c(t)*atp(t)*citrulline(t)\n",
            "fumarate_c: kf_ALD*argi_suc_c(t) - kf_fumarate_out*fumarate_c(t)\n",
            "arginine_c: -kf_AG*arginine_c(t) + kf_ALD*argi_suc_c(t)\n",
            "h2o_c: h2o_b*kf_h2o_in - kf_AG*arginine_c(t)\n",
            "urea_c: kf_AG*arginine_c(t) - kf_urea_out*urea_c(t)\n"
          ],
          "name": "stdout"
        }
      ]
    },
    {
      "cell_type": "markdown",
      "metadata": {
        "id": "rpL6EoS78goO"
      },
      "source": [
        "## Check model completeness"
      ]
    },
    {
      "cell_type": "code",
      "metadata": {
        "execution": {
          "iopub.execute_input": "2020-10-20T20:22:56.994074Z",
          "iopub.status.busy": "2020-10-20T20:22:56.993421Z",
          "iopub.status.idle": "2020-10-20T20:22:56.996088Z",
          "shell.execute_reply": "2020-10-20T20:22:56.996530Z"
        },
        "colab": {
          "base_uri": "https://localhost:8080/"
        },
        "id": "cC8Akej78goO",
        "outputId": "0163488d-052b-4e88-8dbc-d1e5414b4e1e"
      },
      "source": [
        "qcqa_model(model, parameters=True, concentrations=True)"
      ],
      "execution_count": 101,
      "outputs": [
        {
          "output_type": "stream",
          "text": [
            "╒══════════════════════════════════════════╕\n",
            "│ MODEL ID: Urea_Cycle                     │\n",
            "│ SIMULATABLE: True                        │\n",
            "│ PARAMETERS NUMERICALY CONSISTENT: True   │\n",
            "╞══════════════════════════════════════════╡\n",
            "╘══════════════════════════════════════════╛\n"
          ],
          "name": "stdout"
        }
      ]
    },
    {
      "cell_type": "code",
      "metadata": {
        "id": "CrcgIOJKBd91"
      },
      "source": [
        "# model_og = model"
      ],
      "execution_count": 102,
      "outputs": []
    },
    {
      "cell_type": "code",
      "metadata": {
        "id": "yfOipGE8BgBV"
      },
      "source": [
        "# model = model_og"
      ],
      "execution_count": 103,
      "outputs": []
    },
    {
      "cell_type": "markdown",
      "metadata": {
        "id": "bHMl_YTB8goP"
      },
      "source": [
        "# Compute steady state"
      ]
    },
    {
      "cell_type": "markdown",
      "metadata": {
        "id": "7q_Jv-M48goP"
      },
      "source": [
        "## Steady state fluxes"
      ]
    },
    {
      "cell_type": "code",
      "metadata": {
        "colab": {
          "base_uri": "https://localhost:8080/",
          "height": 75
        },
        "id": "LG6SqZko8goP",
        "outputId": "43d44fa9-5d89-47f0-c3b8-37956d7b4465"
      },
      "source": [
        "# Set independent fluxes to determine steady state flux vector\n",
        "independent_fluxes = {\n",
        "    model.reactions.nh4_in: 2.1}\n",
        "\n",
        "# Compute steady state fluxes\n",
        "ssfluxes = model.compute_steady_state_fluxes(\n",
        "    ns.T,\n",
        "    independent_fluxes,\n",
        "    update_reactions=True)\n",
        "\n",
        "# Show the steady ste fluxes\n",
        "reaction_ids = [r.id for r in model.reactions]\n",
        "table_8 = pd.DataFrame(list(ssfluxes.values()), index=reaction_ids,\n",
        "                          columns=[\"v_stst\"]).T\n",
        "table_8"
      ],
      "execution_count": 104,
      "outputs": [
        {
          "output_type": "execute_result",
          "data": {
            "text/html": [
              "<div>\n",
              "<style scoped>\n",
              "    .dataframe tbody tr th:only-of-type {\n",
              "        vertical-align: middle;\n",
              "    }\n",
              "\n",
              "    .dataframe tbody tr th {\n",
              "        vertical-align: top;\n",
              "    }\n",
              "\n",
              "    .dataframe thead th {\n",
              "        text-align: right;\n",
              "    }\n",
              "</style>\n",
              "<table border=\"1\" class=\"dataframe\">\n",
              "  <thead>\n",
              "    <tr style=\"text-align: right;\">\n",
              "      <th></th>\n",
              "      <th>CPS</th>\n",
              "      <th>OTC</th>\n",
              "      <th>ASD</th>\n",
              "      <th>ALD</th>\n",
              "      <th>AG</th>\n",
              "      <th>hco3_in</th>\n",
              "      <th>nh4_in</th>\n",
              "      <th>atp_in</th>\n",
              "      <th>aspartate_in</th>\n",
              "      <th>h2o_in</th>\n",
              "      <th>h_out</th>\n",
              "      <th>adp_out</th>\n",
              "      <th>pi_out</th>\n",
              "      <th>amp_out</th>\n",
              "      <th>ppi_out</th>\n",
              "      <th>fumarate_out</th>\n",
              "      <th>urea_out</th>\n",
              "    </tr>\n",
              "  </thead>\n",
              "  <tbody>\n",
              "    <tr>\n",
              "      <th>v_stst</th>\n",
              "      <td>2.100</td>\n",
              "      <td>2.100</td>\n",
              "      <td>2.100</td>\n",
              "      <td>2.100</td>\n",
              "      <td>2.100</td>\n",
              "      <td>2.100</td>\n",
              "      <td>2.100</td>\n",
              "      <td>6.300</td>\n",
              "      <td>2.100</td>\n",
              "      <td>2.100</td>\n",
              "      <td>14.700</td>\n",
              "      <td>4.200</td>\n",
              "      <td>4.200</td>\n",
              "      <td>2.100</td>\n",
              "      <td>2.100</td>\n",
              "      <td>2.100</td>\n",
              "      <td>2.100</td>\n",
              "    </tr>\n",
              "  </tbody>\n",
              "</table>\n",
              "</div>"
            ],
            "text/plain": [
              "         CPS   OTC   ASD   ALD    AG  hco3_in  nh4_in  atp_in  aspartate_in  \\\n",
              "v_stst 2.100 2.100 2.100 2.100 2.100    2.100   2.100   6.300         2.100   \n",
              "\n",
              "        h2o_in  h_out  adp_out  pi_out  amp_out  ppi_out  fumarate_out  \\\n",
              "v_stst   2.100 14.700    4.200   4.200    2.100    2.100         2.100   \n",
              "\n",
              "        urea_out  \n",
              "v_stst     2.100  "
            ]
          },
          "metadata": {
            "tags": []
          },
          "execution_count": 104
        }
      ]
    },
    {
      "cell_type": "code",
      "metadata": {
        "scrolled": true,
        "colab": {
          "base_uri": "https://localhost:8080/",
          "height": 369
        },
        "id": "Yq9vpVls8goP",
        "outputId": "6d3b440b-330c-4556-dfbb-2ad539379d34"
      },
      "source": [
        "# Visualize steady state fluxes\n",
        "\n",
        "# Set up the figure\n",
        "fig_1, ax = plt.subplots(nrows=1, ncols=1, figsize=(10, 5))\n",
        "# Define indicies for bar chart\n",
        "indicies = np.arange(len(reaction_ids))+0.5\n",
        "# Define colors to use\n",
        "c = plt.cm.coolwarm(np.linspace(0, 1, len(reaction_ids)))\n",
        "# Plot bar chart\n",
        "ax.bar(indicies, ssfluxes.values(), width=0.8, color=c);\n",
        "ax.set_xlim([0, len(reaction_ids)])\n",
        "# Set labels and adjust ticks\n",
        "ax.set_xticks(indicies)\n",
        "ax.set_xticklabels(reaction_ids, rotation=\"vertical\")\n",
        "ax.set_ylabel(\"Fluxes (mM/hr)\", L_FONT)\n",
        "ax.set_title(\"Steady State Fluxes\", L_FONT)\n",
        "fig_1.tight_layout()"
      ],
      "execution_count": 105,
      "outputs": [
        {
          "output_type": "display_data",
          "data": {
            "image/png": "[encoded data removed]",
            "text/plain": [
              "<Figure size 720x360 with 1 Axes>"
            ]
          },
          "metadata": {
            "tags": [],
            "needs_background": "light"
          }
        }
      ]
    },
    {
      "cell_type": "code",
      "metadata": {
        "colab": {
          "base_uri": "https://localhost:8080/",
          "height": 75
        },
        "id": "dZnNQdqy8goQ",
        "outputId": "259bb486-3086-4174-e6b8-23709e7fe25f"
      },
      "source": [
        "# Check if this is really the steady state flux\n",
        "pd.DataFrame(\n",
        "    model.S.dot(np.array(list(ssfluxes.values()))),\n",
        "    index=metabolite_ids,\n",
        "    columns=[\"S x v_stst\"],\n",
        "    dtype=np.int64).T"
      ],
      "execution_count": 106,
      "outputs": [
        {
          "output_type": "execute_result",
          "data": {
            "text/html": [
              "<div>\n",
              "<style scoped>\n",
              "    .dataframe tbody tr th:only-of-type {\n",
              "        vertical-align: middle;\n",
              "    }\n",
              "\n",
              "    .dataframe tbody tr th {\n",
              "        vertical-align: top;\n",
              "    }\n",
              "\n",
              "    .dataframe thead th {\n",
              "        text-align: right;\n",
              "    }\n",
              "</style>\n",
              "<table border=\"1\" class=\"dataframe\">\n",
              "  <thead>\n",
              "    <tr style=\"text-align: right;\">\n",
              "      <th></th>\n",
              "      <th>nh4_m</th>\n",
              "      <th>hco3_m</th>\n",
              "      <th>atp</th>\n",
              "      <th>h</th>\n",
              "      <th>pi_m</th>\n",
              "      <th>adp_m</th>\n",
              "      <th>carb_phos_m</th>\n",
              "      <th>ornithine</th>\n",
              "      <th>citrulline</th>\n",
              "      <th>aspartate_c</th>\n",
              "      <th>ppi_c</th>\n",
              "      <th>amp_c</th>\n",
              "      <th>argi_suc_c</th>\n",
              "      <th>fumarate_c</th>\n",
              "      <th>arginine_c</th>\n",
              "      <th>h2o_c</th>\n",
              "      <th>urea_c</th>\n",
              "    </tr>\n",
              "  </thead>\n",
              "  <tbody>\n",
              "    <tr>\n",
              "      <th>S x v_stst</th>\n",
              "      <td>0</td>\n",
              "      <td>0</td>\n",
              "      <td>0</td>\n",
              "      <td>0</td>\n",
              "      <td>0</td>\n",
              "      <td>0</td>\n",
              "      <td>0</td>\n",
              "      <td>0</td>\n",
              "      <td>0</td>\n",
              "      <td>0</td>\n",
              "      <td>0</td>\n",
              "      <td>0</td>\n",
              "      <td>0</td>\n",
              "      <td>0</td>\n",
              "      <td>0</td>\n",
              "      <td>0</td>\n",
              "      <td>0</td>\n",
              "    </tr>\n",
              "  </tbody>\n",
              "</table>\n",
              "</div>"
            ],
            "text/plain": [
              "            nh4_m  hco3_m  atp  h  pi_m  adp_m  carb_phos_m  ornithine  \\\n",
              "S x v_stst      0       0    0  0     0      0            0          0   \n",
              "\n",
              "            citrulline  aspartate_c  ppi_c  amp_c  argi_suc_c  fumarate_c  \\\n",
              "S x v_stst           0            0      0      0           0           0   \n",
              "\n",
              "            arginine_c  h2o_c  urea_c  \n",
              "S x v_stst           0      0       0  "
            ]
          },
          "metadata": {
            "tags": []
          },
          "execution_count": 106
        }
      ]
    },
    {
      "cell_type": "markdown",
      "metadata": {
        "id": "DgZmmrxy8goQ"
      },
      "source": [
        "## Compute PERCs"
      ]
    },
    {
      "cell_type": "code",
      "metadata": {
        "colab": {
          "base_uri": "https://localhost:8080/"
        },
        "id": "JPh_58eG8goQ",
        "outputId": "c154cf3b-a62f-4055-df0b-3a4691aff9c7"
      },
      "source": [
        "percs = model.calculate_PERCs(update_reactions=True)\n",
        "percs"
      ],
      "execution_count": 107,
      "outputs": [
        {
          "output_type": "execute_result",
          "data": {
            "text/plain": [
              "{'kf_AG': 27.33307301835221,\n",
              " 'kf_ALD': 1200.0,\n",
              " 'kf_ASD': 4375.564037551716,\n",
              " 'kf_CPS': 1.9193804823294707,\n",
              " 'kf_OTC': 5570.291777188329,\n",
              " 'kf_adp_out': 26.25,\n",
              " 'kf_amp_out': 110.52631578947368,\n",
              " 'kf_aspartate_in': 100000.0,\n",
              " 'kf_atp_in': 100000.0,\n",
              " 'kf_fumarate_out': 2222.222222222222,\n",
              " 'kf_h2o_in': 100000.0,\n",
              " 'kf_h_out': 1.4700000000000002,\n",
              " 'kf_hco3_in': 100000.0,\n",
              " 'kf_nh4_in': 100000.0,\n",
              " 'kf_pi_out': 3.6939313984168867,\n",
              " 'kf_ppi_out': 1166.6666666666667,\n",
              " 'kf_urea_out': 1.2485136741973841}"
            ]
          },
          "metadata": {
            "tags": []
          },
          "execution_count": 107
        }
      ]
    },
    {
      "cell_type": "code",
      "metadata": {
        "colab": {
          "base_uri": "https://localhost:8080/"
        },
        "id": "s6RRG_fa8goQ",
        "outputId": "f4a682f7-5d2d-4a98-a99a-9d704641855f"
      },
      "source": [
        "for r in model.reactions:\n",
        "    print(r.parameters)"
      ],
      "execution_count": 108,
      "outputs": [
        {
          "output_type": "stream",
          "text": [
            "{'kf_CPS': 1.9193804823294707, 'Keq_CPS': inf}\n",
            "{'kf_OTC': 5570.291777188329, 'Keq_OTC': inf}\n",
            "{'kf_ASD': 4375.564037551716, 'Keq_ASD': inf}\n",
            "{'kf_ALD': 1200.0, 'Keq_ALD': inf}\n",
            "{'kf_AG': 27.33307301835221, 'Keq_AG': inf}\n",
            "{'kf_hco3_in': 100000.0, 'Keq_hco3_in': inf}\n",
            "{'kf_nh4_in': 100000.0, 'Keq_nh4_in': inf}\n",
            "{'kf_atp_in': 100000.0, 'Keq_atp_in': inf}\n",
            "{'kf_aspartate_in': 100000.0, 'Keq_aspartate_in': inf}\n",
            "{'kf_h2o_in': 100000.0, 'Keq_h2o_in': inf}\n",
            "{'kf_h_out': 1.4700000000000002, 'Keq_h_out': inf}\n",
            "{'kf_adp_out': 26.25, 'Keq_adp_out': inf}\n",
            "{'kf_pi_out': 3.6939313984168867, 'Keq_pi_out': inf}\n",
            "{'kf_amp_out': 110.52631578947368, 'Keq_amp_out': inf}\n",
            "{'kf_ppi_out': 1166.6666666666667, 'Keq_ppi_out': inf}\n",
            "{'kf_fumarate_out': 2222.222222222222, 'Keq_fumarate_out': inf}\n",
            "{'kf_urea_out': 1.2485136741973841, 'Keq_urea_out': inf}\n"
          ],
          "name": "stdout"
        }
      ]
    },
    {
      "cell_type": "markdown",
      "metadata": {
        "id": "NrJzbOT48goR"
      },
      "source": [
        "# Simulation and results"
      ]
    },
    {
      "cell_type": "code",
      "metadata": {
        "colab": {
          "base_uri": "https://localhost:8080/"
        },
        "id": "OL2S2KHBABSn",
        "outputId": "7d7d2599-c916-474a-ebd2-f7fac42785f0"
      },
      "source": [
        "sim0 = Simulation(reference_model=model)\n",
        "sim0.steady_state_solver.maximum_iterations = 5000\n",
        "conc_sol, flux_sol = sim0.find_steady_state(model, strategy=\"simulate\",\n",
        "                                           update_values=True, verbose=True)\n",
        "model.initial_conditions  # Same object as reference model in Simulation"
      ],
      "execution_count": 109,
      "outputs": [
        {
          "output_type": "stream",
          "text": [
            "Setting output selections\n",
            "Setting simulation values for 'Urea_Cycle'\n",
            "Setting output selections\n",
            "Getting time points\n",
            "Simulating 'Urea_Cycle'\n",
            "Found steady state for 'Urea_Cycle'.\n",
            "Updating 'Urea_Cycle' values\n",
            "Adding 'Urea_Cycle' simulation solutions to output\n"
          ],
          "name": "stdout"
        },
        {
          "output_type": "execute_result",
          "data": {
            "text/plain": [
              "{<MassMetabolite adp_m at 0x7f01765ef510>: 2.5970328464212366e-46,\n",
              " <MassMetabolite amp_c at 0x7f01764c2490>: 2.521284008737853e-117,\n",
              " <MassMetabolite argi_suc_c at 0x7f017335a650>: 0.00175,\n",
              " <MassMetabolite arginine_c at 0x7f017335a550>: 0.07683,\n",
              " <MassMetabolite aspartate_c at 0x7f017335ad90>: 7.396869150837639e-132,\n",
              " <MassMetabolite atp at 0x7f0176451650>: 0.9845000000000009,\n",
              " <MassMetabolite carb_phos_m at 0x7f01765ef410>: 0.029,\n",
              " <MassMetabolite citrulline at 0x7f01764c2090>: 0.08075000000000006,\n",
              " <MassMetabolite fumarate_c at 0x7f017335a090>: 0.000945,\n",
              " <MassMetabolite h at 0x7f01764514d0>: 7.484530419439464e-37,\n",
              " <MassMetabolite h2o_c at 0x7f017335a510>: 54999.90591999999,\n",
              " <MassMetabolite hco3_m at 0x7f01734910d0>: 24.461500000000015,\n",
              " <MassMetabolite nh4_m at 0x7f0176451490>: 1.1848562607754664e-46,\n",
              " <MassMetabolite ornithine at 0x7f01764c2890>: 0.039580000000001225,\n",
              " <MassMetabolite pi_m at 0x7f01765efe50>: 1.137,\n",
              " <MassMetabolite ppi_c at 0x7f01765ef690>: 2.9407979607294752e-136,\n",
              " <MassMetabolite urea_c at 0x7f017335ab90>: 1.682}"
            ]
          },
          "metadata": {
            "tags": []
          },
          "execution_count": 109
        }
      ]
    },
    {
      "cell_type": "code",
      "metadata": {
        "id": "dbyX7qeEBwuy",
        "colab": {
          "base_uri": "https://localhost:8080/"
        },
        "outputId": "b4c3d293-5185-4c43-cc91-8c38baaee10c"
      },
      "source": [
        "for metabolite, solution in conc_sol.items():\n",
        "    print(\"{0}: {1}\".format(metabolite, solution))"
      ],
      "execution_count": 110,
      "outputs": [
        {
          "output_type": "stream",
          "text": [
            "nh4_m: 1.1848562607754664e-46\n",
            "hco3_m: 24.461500000000015\n",
            "atp: 0.9845000000000009\n",
            "h: 7.484530419439464e-37\n",
            "pi_m: -1.282386919999535e-45\n",
            "adp_m: 2.5970328464212366e-46\n",
            "carb_phos_m: -1.881373205560334e-47\n",
            "ornithine: 0.039580000000001225\n",
            "citrulline: 0.08075000000000006\n",
            "aspartate_c: 7.396869150837639e-132\n",
            "ppi_c: 2.9407979607294752e-136\n",
            "amp_c: 2.521284008737853e-117\n",
            "argi_suc_c: -9.53383575981393e-136\n",
            "fumarate_c: -5.148273049837584e-136\n",
            "arginine_c: -2.3850204607673823e-54\n",
            "h2o_c: 54999.90591999999\n",
            "urea_c: -2.387431814377154e-38\n"
          ],
          "name": "stdout"
        }
      ]
    },
    {
      "cell_type": "code",
      "metadata": {
        "colab": {
          "base_uri": "https://localhost:8080/"
        },
        "id": "U5p1pczA8goR",
        "outputId": "85b0cb97-55cd-4019-c42b-ac406263dee0"
      },
      "source": [
        "# Simulate the model\n",
        "t0, tf = (0, 1e3)\n",
        "sim = Simulation(model, verbose=True)"
      ],
      "execution_count": 111,
      "outputs": [
        {
          "output_type": "stream",
          "text": [
            "Successfully loaded MassModel 'Urea_Cycle' into RoadRunner.\n"
          ],
          "name": "stdout"
        }
      ]
    },
    {
      "cell_type": "code",
      "metadata": {
        "colab": {
          "base_uri": "https://localhost:8080/",
          "height": 298
        },
        "id": "ZZD0KHk98goR",
        "outputId": "5c7169d9-b3bc-40e4-eead-a07b70fc6350"
      },
      "source": [
        "# Visualize the concentrations over time\n",
        "conc_sol_ss, flux_sol_ss = sim.simulate(\n",
        "    model, time=(t0, tf, tf*10 + 1))\n",
        "conc_sol_ss.view_time_profile()"
      ],
      "execution_count": 112,
      "outputs": [
        {
          "output_type": "display_data",
          "data": {
            "image/png": "[encoded data removed]",
            "text/plain": [
              "<Figure size 432x288 with 1 Axes>"
            ]
          },
          "metadata": {
            "tags": [],
            "needs_background": "light"
          }
        }
      ]
    },
    {
      "cell_type": "code",
      "metadata": {
        "colab": {
          "base_uri": "https://localhost:8080/",
          "height": 312
        },
        "id": "XL65HlJH8goR",
        "outputId": "a760c357-8b60-43e3-83b8-52dcb6856555"
      },
      "source": [
        "# Plot time profile\n",
        "plot_time_profile(\n",
        "    conc_sol_ss, legend=\"right outside\",\n",
        "    xlabel=\"Time\", ylabel=\"Concentration\",\n",
        "    title=(\"Concentration Solutions\", {\"size\": \"large\"}))"
      ],
      "execution_count": 113,
      "outputs": [
        {
          "output_type": "execute_result",
          "data": {
            "text/plain": [
              "<matplotlib.axes._subplots.AxesSubplot at 0x7f017ec35790>"
            ]
          },
          "metadata": {
            "tags": []
          },
          "execution_count": 113
        },
        {
          "output_type": "display_data",
          "data": {
            "image/png": "[encoded data removed]",
            "text/plain": [
              "<Figure size 432x288 with 1 Axes>"
            ]
          },
          "metadata": {
            "tags": [],
            "needs_background": "light"
          }
        }
      ]
    },
    {
      "cell_type": "code",
      "metadata": {
        "colab": {
          "base_uri": "https://localhost:8080/",
          "height": 315
        },
        "id": "TIIFh8mx8goS",
        "outputId": "004cc010-523e-4dc4-d718-9c7710364c24"
      },
      "source": [
        "# Plot time profile for concentrations on log scale\n",
        "plot_time_profile(\n",
        "    conc_sol_ss, legend=\"right outside\", plot_function=\"semilogx\",\n",
        "    xlabel=\"Time\", ylabel=\"Concentration\",\n",
        "    title=(\"Concentration Solutions\", {\"size\": \"large\"}))"
      ],
      "execution_count": 114,
      "outputs": [
        {
          "output_type": "execute_result",
          "data": {
            "text/plain": [
              "<matplotlib.axes._subplots.AxesSubplot at 0x7f01765c3a50>"
            ]
          },
          "metadata": {
            "tags": []
          },
          "execution_count": 114
        },
        {
          "output_type": "display_data",
          "data": {
            "image/png": "[encoded data removed]",
            "text/plain": [
              "<Figure size 432x288 with 1 Axes>"
            ]
          },
          "metadata": {
            "tags": [],
            "needs_background": "light"
          }
        }
      ]
    },
    {
      "cell_type": "code",
      "metadata": {
        "colab": {
          "base_uri": "https://localhost:8080/",
          "height": 298
        },
        "id": "3tJ-6OvQ8goS",
        "outputId": "af5ddd4e-c182-494e-8f7e-7b0386fe9d5b"
      },
      "source": [
        "# Plot time profil for fluxes on log scale\n",
        "plot_time_profile(\n",
        "    flux_sol_ss, legend=\"right outside\", \n",
        "    plot_function=\"semilogx\", \n",
        "    xlabel=\"Time [hr]\", ylabel=\"Flux [mM/hr]\", \n",
        "    title=(\"Flux Profile\", L_FONT));"
      ],
      "execution_count": 115,
      "outputs": [
        {
          "output_type": "display_data",
          "data": {
            "image/png": "[encoded data removed]",
            "text/plain": [
              "<Figure size 432x288 with 1 Axes>"
            ]
          },
          "metadata": {
            "tags": [],
            "needs_background": "light"
          }
        }
      ]
    },
    {
      "cell_type": "code",
      "metadata": {
        "colab": {
          "base_uri": "https://localhost:8080/",
          "height": 315
        },
        "id": "S9bYOwez8goS",
        "outputId": "a1eee7ce-cda7-497f-8d73-2f3bc54a53f6"
      },
      "source": [
        "# Plot time profile of ammonium and urea\n",
        "plot_time_profile(\n",
        "    conc_sol_ss, observable=[\"nh4_m\", \"carb_phos_m\", \"ornithine\", \"citrulline\", \"aspartate_c\", \"argi_suc_c\", \"urea_c\"], legend=\"right outside\", plot_function=\"semilogx\",\n",
        "    xlabel=\"Time\", ylabel=\"Concentration\",\n",
        "    title=(\"Concentration Solutions\", {\"size\": \"large\"}))"
      ],
      "execution_count": 116,
      "outputs": [
        {
          "output_type": "execute_result",
          "data": {
            "text/plain": [
              "<matplotlib.axes._subplots.AxesSubplot at 0x7f0172fb6750>"
            ]
          },
          "metadata": {
            "tags": []
          },
          "execution_count": 116
        },
        {
          "output_type": "display_data",
          "data": {
            "image/png": "[encoded data removed]",
            "text/plain": [
              "<Figure size 432x288 with 1 Axes>"
            ]
          },
          "metadata": {
            "tags": [],
            "needs_background": "light"
          }
        }
      ]
    },
    {
      "cell_type": "code",
      "metadata": {
        "colab": {
          "base_uri": "https://localhost:8080/",
          "height": 426
        },
        "id": "CEVfZVCx8goT",
        "outputId": "f9e453b6-2d76-4f37-d463-220f9d5c5f4d"
      },
      "source": [
        "# Plot phase portrait of ammonium and urea\n",
        "plot_phase_portrait(\n",
        "    conc_sol_ss, x=\"nh4_m\", y=\"urea_c\", xlabel=\"Ammonia\", ylabel=\"Urea\",\n",
        "    annotate_time_points=[t0, 1e-1, 1e0, 1e1, 1e3, tf],\n",
        "    annotate_time_points_color= [\n",
        "        \"red\", \"green\", \"purple\", \"yellow\", \"cyan\", \"blue\"],\n",
        "    annotate_time_points_legend=\"lower outside\")"
      ],
      "execution_count": 117,
      "outputs": [
        {
          "output_type": "execute_result",
          "data": {
            "text/plain": [
              "<matplotlib.axes._subplots.AxesSubplot at 0x7f01733489d0>"
            ]
          },
          "metadata": {
            "tags": []
          },
          "execution_count": 117
        },
        {
          "output_type": "display_data",
          "data": {
            "image/png": "[encoded data removed]",
            "text/plain": [
              "<Figure size 432x288 with 1 Axes>"
            ]
          },
          "metadata": {
            "tags": [],
            "needs_background": "light"
          }
        }
      ]
    },
    {
      "cell_type": "code",
      "metadata": {
        "id": "BGNxayt78goT"
      },
      "source": [
        "# Plot tiled phase portraits of all metabolites\n",
        "# plot_tiled_phase_portraits(conc_sol_ss,\n",
        "#                            annotate_time_points_legend=\"right outside\")"
      ],
      "execution_count": 118,
      "outputs": []
    },
    {
      "cell_type": "code",
      "metadata": {
        "id": "jQs-7VU38goT"
      },
      "source": [
        ""
      ],
      "execution_count": 118,
      "outputs": []
    },
    {
      "cell_type": "markdown",
      "metadata": {
        "id": "8Vzu8G-tWstJ"
      },
      "source": [
        "# Enzyme modules"
      ]
    },
    {
      "cell_type": "markdown",
      "metadata": {
        "id": "20nRaebpOMsd"
      },
      "source": [
        "## Module construction"
      ]
    },
    {
      "cell_type": "code",
      "metadata": {
        "id": "qV0ikmFoWvTG"
      },
      "source": [
        "CPS = EnzymeModule(\"CPS\", name=\"Ammonia-dependent carbamoyl-phosphate synthase\", \n",
        "                   subsystem=\"Urea_Cycle\")"
      ],
      "execution_count": 119,
      "outputs": []
    },
    {
      "cell_type": "markdown",
      "metadata": {
        "id": "AEKJBraWOPO7"
      },
      "source": [
        "### Metabolites"
      ]
    },
    {
      "cell_type": "code",
      "metadata": {
        "colab": {
          "base_uri": "https://localhost:8080/"
        },
        "id": "oeErCnytWwpf",
        "outputId": "58852e6b-bbe5-44d2-b269-b66f57b30c09"
      },
      "source": [
        "# Add the metabolites to the EnzymeModule\n",
        "CPS.add_metabolites([nh4_m, hco3_m, atp, h, pi_m, adp_m, carb_phos_m])\n",
        "# Access DictList of ligands and print\n",
        "print(\"All {0} Ligands: {1}\".format(\n",
        "    CPS.id, \"; \".join([m.id for m in CPS.enzyme_module_ligands])))\n",
        "\n",
        "CPS.enzyme_module_ligands_categorized =  {\n",
        "    \"Substrates\": [nh4_m, hco3_m],\n",
        "    \"Cofactors\": atp,\n",
        "    \"Products\": [h, pi_m, adp_m, carb_phos_m]}\n",
        "\n",
        "# Access DictList of ligands and print\n",
        "print(\"All {0} ligands ({1} total):\\n{2}\\n\".format(\n",
        "    CPS.id, len(CPS.enzyme_module_ligands),\n",
        "    str([m.id for m in CPS.enzyme_module_ligands])))\n",
        "\n",
        "# Access categorized attribute for ligands and print\n",
        "for group in CPS.enzyme_module_ligands_categorized:\n",
        "    print(\"{0}: {1}\".format(\n",
        "        group.id, str([m.id for m in group.members])))"
      ],
      "execution_count": 120,
      "outputs": [
        {
          "output_type": "stream",
          "text": [
            "All CPS Ligands: nh4_m; hco3_m; atp; h; pi_m; adp_m; carb_phos_m\n",
            "All CPS ligands (7 total):\n",
            "['nh4_m', 'hco3_m', 'atp', 'h', 'pi_m', 'adp_m', 'carb_phos_m']\n",
            "\n",
            "Substrates: ['nh4_m', 'hco3_m']\n",
            "Cofactors: ['atp']\n",
            "Products: ['h', 'pi_m', 'adp_m', 'carb_phos_m']\n"
          ],
          "name": "stdout"
        }
      ]
    },
    {
      "cell_type": "markdown",
      "metadata": {
        "id": "ZlLygtS5OfzU"
      },
      "source": [
        "### Enzyme module form"
      ]
    },
    {
      "cell_type": "code",
      "metadata": {
        "colab": {
          "base_uri": "https://localhost:8080/"
        },
        "id": "OpbfLI5MdPod",
        "outputId": "a5d1c085-7010-4bbf-a3ef-2156064c8aa6"
      },
      "source": [
        "# Make enzyme module forms per number of bound activators (Up to 4 Total)\n",
        "CPS.make_enzyme_module_form(\n",
        "    \"cps_m\", \n",
        "    name=\"Automatic\", \n",
        "    categories=(\"Relaxed\"),\n",
        "    compartment=\"m\");\n",
        "\n",
        "CPS.make_enzyme_module_form(\n",
        "    \"cps_N_m\", \n",
        "    name=\"Automatic\", \n",
        "    categories=(\"Relaxed\"),\n",
        "    bound_metabolites={nh4_m: 1},\n",
        "    compartment=\"m\");\n",
        "\n",
        "CPS.make_enzyme_module_form(\n",
        "    \"cps_NH_m\", \n",
        "    name=\"Automatic\", \n",
        "    categories=(\"Relaxed\"),\n",
        "    bound_metabolites={nh4_m: 1, hco3_m: 1},\n",
        "    compartment=\"m\");\n",
        "  \n",
        "CPS.make_enzyme_module_form(\n",
        "    \"cps_NHA_m\", \n",
        "    name=\"Automatic\", \n",
        "    categories=(\"Relaxed\"),\n",
        "    bound_metabolites={nh4_m: 1, hco3_m: 1, atp: 1, atp: 2},\n",
        "    compartment=\"m\");\n",
        "\n",
        "\n",
        "# Access DictList of enzyme module forms and print\n",
        "print(\"All {0} enzyme module forms ({1} total):\\n{2}\\n\".format(\n",
        "    CPS.id, len(CPS.enzyme_module_forms),\n",
        "    str([m.id for m in CPS.enzyme_module_forms])))\n",
        "\n",
        "# Access categorized attribute for enzyme module forms and print\n",
        "for group in CPS.enzyme_module_forms_categorized:\n",
        "    print(\"{0}: {1}\\n\".format(\n",
        "        group.id, str(sorted([m.id for m in group.members]))))"
      ],
      "execution_count": 121,
      "outputs": [
        {
          "output_type": "stream",
          "text": [
            "All CPS enzyme module forms (4 total):\n",
            "['cps_m', 'cps_N_m', 'cps_NH_m', 'cps_NHA_m']\n",
            "\n",
            "Relaxed: ['cps_NHA_m', 'cps_NH_m', 'cps_N_m', 'cps_m']\n",
            "\n"
          ],
          "name": "stdout"
        }
      ]
    },
    {
      "cell_type": "markdown",
      "metadata": {
        "id": "Z5fQKwYsOjF2"
      },
      "source": [
        "## Reactions"
      ]
    },
    {
      "cell_type": "markdown",
      "metadata": {
        "id": "aLcYSQdaO1GF"
      },
      "source": [
        "### Create reactions"
      ]
    },
    {
      "cell_type": "code",
      "metadata": {
        "colab": {
          "base_uri": "https://localhost:8080/"
        },
        "id": "tfJUsgjDfXcT",
        "outputId": "cadbc15f-430c-4034-8450-5bd029a5d494"
      },
      "source": [
        "CPS.make_enzyme_module_reaction(\n",
        "    \"CPS_1\".format(i), \n",
        "    name=\"Automatic\",\n",
        "    subsystem=\"Urea_Cycle\",\n",
        "    reversible=True,\n",
        "    categories=\"nh4_m_binding\",\n",
        "    metabolites_to_add={\n",
        "        \"cps_m\": -1, \n",
        "        \"nh4_m\": -1, \n",
        "        \"cps_N_m\": 1})\n",
        "\n",
        "CPS.make_enzyme_module_reaction(\n",
        "    \"CPS_2\", \n",
        "    name=\"Automatic\",\n",
        "    subsystem=\"Urea_Cycle\",\n",
        "    reversible=True,\n",
        "    categories=\"hco3_m_binding\",\n",
        "    metabolites_to_add={\n",
        "        \"cps_N_m\": -1, \n",
        "        \"hco3_m\": -1, \n",
        "        \"cps_NH_m\": 1})\n",
        "\n",
        "CPS.make_enzyme_module_reaction(\n",
        "    \"CPS_3\", \n",
        "    name=\"Automatic\",\n",
        "    subsystem=\"Urea_Cycle\",\n",
        "    reversible=True,\n",
        "    categories=\"atp_binding\",\n",
        "    metabolites_to_add={\n",
        "        \"cps_NH_m\": -1, \n",
        "        \"atp\": -2, \n",
        "        \"cps_NHA_m\": 1})\n",
        "\n",
        "CPS.make_enzyme_module_reaction(\n",
        "    \"CPS_4\", \n",
        "    name=\"Automatic\",\n",
        "    subsystem=\"Urea_Cycle\",\n",
        "    reversible=False,\n",
        "    categories=\"catalyzation\",\n",
        "    metabolites_to_add={\n",
        "        \"cps_NHA_m\": -1, \n",
        "        \"cps_m\": 1, \n",
        "        \"h\": 2, \n",
        "        \"pi_m\": 1,\n",
        "        \"adp_m\": 2,\n",
        "        \"carb_phos_m\": 1})\n",
        "\n",
        "# Access DictList of enzyme module reactions and print\n",
        "print(\"All {0} enzyme module reactions ({1} total):\\n{2}\\n\".format(\n",
        "    CPS.id, len(CPS.enzyme_module_reactions),\n",
        "    str([m.name for m in CPS.enzyme_module_reactions])))\n",
        "\n",
        "# Access categorized attribute for enzyme module reactions and print\n",
        "for group in CPS.enzyme_module_reactions_categorized:\n",
        "    print(\"{0}: {1}\\n\".format(\n",
        "        group.id, str(sorted([m.id for m in group.members]))))"
      ],
      "execution_count": 122,
      "outputs": [
        {
          "output_type": "stream",
          "text": [
            "All CPS enzyme module reactions (4 total):\n",
            "['cps-nh4 binding', 'cps_N-hco3 binding', 'cps_NH-atp binding', 'cps_NHA catalyzation']\n",
            "\n",
            "nh4_m_binding: ['CPS_1']\n",
            "\n",
            "hco3_m_binding: ['CPS_2']\n",
            "\n",
            "atp_binding: ['CPS_3']\n",
            "\n",
            "catalyzation: ['CPS_4']\n",
            "\n"
          ],
          "name": "stdout"
        }
      ]
    },
    {
      "cell_type": "markdown",
      "metadata": {
        "id": "gf3MOUpLOuXA"
      },
      "source": [
        "### Unify rate parameters"
      ]
    },
    {
      "cell_type": "code",
      "metadata": {
        "colab": {
          "base_uri": "https://localhost:8080/"
        },
        "id": "w2h0H5fM1A-e",
        "outputId": "5206fcb2-0490-49e1-ef4a-c0fff2afe8c0"
      },
      "source": [
        "abbreviations = [\"N\", \"H\", \"A\"]\n",
        "ligands = [nh4_m, hco3_m, atp, pi_m, adp_m, h, carb_phos_m]\n",
        "\n",
        "for met, unified_id in zip(ligands, abbreviations):\n",
        "    category = {\"N\": \"binding\",\n",
        "                \"H\": \"binding\",\n",
        "                \"A\": \"binding\"\n",
        "                }[unified_id]\n",
        "    group = CPS.enzyme_module_reactions_categorized.get_by_id(\n",
        "        \"_\".join((met.id, category)))\n",
        "    reactions = sorted(group.members, key=attrgetter(\"id\"))\n",
        "    CPS.unify_rate_parameters(reactions, unified_id,\n",
        "                              rate_type=2, enzyme_prefix=True)\n",
        "            \n",
        "CPS.unify_rate_parameters(\n",
        "    CPS.enzyme_module_reactions_categorized.get_by_id(\"catalyzation\").members,\n",
        "    \"CPS\")\n",
        "# Update rate laws to be in terms of kf and Keq\n",
        "CPS.custom_rates.update(k2Keq(CPS.custom_rates))\n",
        "\n",
        "# Access categorized attribute for enzyme module reactions and print\n",
        "for group in CPS.enzyme_module_reactions_categorized:\n",
        "    header = \"Category: \" + group.id\n",
        "    print(\"\\n\" + header + \"\\n\" + \"-\" * len(header))\n",
        "    for reaction in sorted(group.members, key=attrgetter(\"id\")):\n",
        "        print(reaction.id + \": \" + str(reaction.rate))"
      ],
      "execution_count": 123,
      "outputs": [
        {
          "output_type": "stream",
          "text": [
            "\n",
            "Category: nh4_m_binding\n",
            "-----------------------\n",
            "CPS_1: kf_CPS_N*(cps_m(t)*nh4_m(t) - cps_N_m(t)/Keq_CPS_N)\n",
            "\n",
            "Category: hco3_m_binding\n",
            "------------------------\n",
            "CPS_2: kf_CPS_H*(cps_N_m(t)*hco3_m(t) - cps_NH_m(t)/Keq_CPS_H)\n",
            "\n",
            "Category: atp_binding\n",
            "---------------------\n",
            "CPS_3: kf_CPS_A*(atp(t)**2*cps_NH_m(t) - cps_NHA_m(t)/Keq_CPS_A)\n",
            "\n",
            "Category: catalyzation\n",
            "----------------------\n",
            "CPS_4: kf_CPS*cps_NHA_m(t)\n"
          ],
          "name": "stdout"
        }
      ]
    },
    {
      "cell_type": "markdown",
      "metadata": {
        "id": "xoKaE7QYO8Bh"
      },
      "source": [
        "## The steady state"
      ]
    },
    {
      "cell_type": "code",
      "metadata": {
        "colab": {
          "base_uri": "https://localhost:8080/"
        },
        "id": "nnQ5TMCkfYMW",
        "outputId": "1430eb20-e9c5-486d-89a7-3685bcf36c1d"
      },
      "source": [
        "# Make a dictionary of ODEs and lump ligands into rate parameters by giving them a value of 1\n",
        "ode_dict = {}\n",
        "lump_ligands = {sym.Symbol(met.id): 1 for met in CPS.enzyme_module_ligands}\n",
        "for enzyme_module_form in CPS.enzyme_module_forms:\n",
        "    symbol_key = sym.Symbol(enzyme_module_form.id)\n",
        "    ode = sym.Eq(strip_time(enzyme_module_form.ode), 0)\n",
        "    ode_dict[symbol_key] = ode.subs(lump_ligands)\n",
        "\n",
        "rank = matrix_rank(CPS.S[7:])\n",
        "print(\"Rank Deficiency: {0}\".format(len(ode_dict) - rank))"
      ],
      "execution_count": 124,
      "outputs": [
        {
          "output_type": "stream",
          "text": [
            "Rank Deficiency: 1\n"
          ],
          "name": "stdout"
        }
      ]
    },
    {
      "cell_type": "code",
      "metadata": {
        "colab": {
          "base_uri": "https://localhost:8080/"
        },
        "id": "bq2wOFc90cHt",
        "outputId": "25a3973c-cc00-429d-b391-4605a7a6b209"
      },
      "source": [
        "reactions = CPS.enzyme_module_reactions_categorized.get_by_id(\n",
        "    \"catalyzation\").members\n",
        "CPS.make_enzyme_rate_equation(\n",
        "    reactions,\n",
        "    use_rates=True, update_enzyme=True)\n",
        "sym.pprint(CPS.enzyme_rate_equation)"
      ],
      "execution_count": 125,
      "outputs": [
        {
          "output_type": "stream",
          "text": [
            "kf_CPS⋅cps_NHA_m(t)\n"
          ],
          "name": "stdout"
        }
      ]
    },
    {
      "cell_type": "code",
      "metadata": {
        "colab": {
          "base_uri": "https://localhost:8080/"
        },
        "id": "Wdy5uak81iLi",
        "outputId": "a61a5d1f-81db-45f1-b8ac-11864db1acc9"
      },
      "source": [
        "# Get enzyme module forms\n",
        "enzyme_module_forms = CPS.enzyme_module_forms.copy()\n",
        "# Reverse list for increased performance (due to symmetry assumption)\n",
        "# by solving for the most activated/inhibitors bound first.\n",
        "enzyme_module_forms.reverse()\n",
        "\n",
        "enzyme_solutions = {}\n",
        "for enzyme_module_form in enzyme_module_forms:\n",
        "    # Skip dependent variable\n",
        "    if \"cps_m\" == str(enzyme_module_form):\n",
        "        continue\n",
        "    enzyme_module_form = sym.Symbol(enzyme_module_form.id)\n",
        "    # Susbtitute in previous solutions and solve for the enzyme module form, \n",
        "    equation = ode_dict[enzyme_module_form]\n",
        "    sol = sym.solveset(equation.subs(enzyme_solutions), enzyme_module_form)\n",
        "    enzyme_solutions[enzyme_module_form] = list(sol)[0]\n",
        "    # Update the dictionary of solutions with the solutions\n",
        "    enzyme_solutions.update({\n",
        "        enzyme_module_form: sol.subs(enzyme_solutions) \n",
        "        for enzyme_module_form, sol in enzyme_solutions.items()})\n",
        "args = set()\n",
        "for sol in enzyme_solutions.values():\n",
        "    args.update(sol.atoms(sym.Symbol))\n",
        "print(args)"
      ],
      "execution_count": 126,
      "outputs": [
        {
          "output_type": "stream",
          "text": [
            "{Keq_CPS_H, cps_m, Keq_CPS_A, kf_CPS_H, kf_CPS, kf_CPS_N, Keq_CPS_N, kf_CPS_A}\n"
          ],
          "name": "stdout"
        }
      ]
    },
    {
      "cell_type": "code",
      "metadata": {
        "colab": {
          "base_uri": "https://localhost:8080/"
        },
        "id": "MW6Cqnvf1vnK",
        "outputId": "4106fcd9-129e-40ad-ccfa-3a4d7afed7d5"
      },
      "source": [
        "enzyme_rate_equation = strip_time(CPS.enzyme_rate_error(False))\n",
        "print(\"Enzyme Net Flux Equation\\n\" + \"-\"*24)\n",
        "sym.pprint(enzyme_rate_equation)\n",
        "\n",
        "# Solve for last unknown concentration symbolically\n",
        "sol = sym.solveset(enzyme_rate_equation.subs(enzyme_solutions), \"cps_m\")\n",
        "\n",
        "# Update solution dictionary with the new solution\n",
        "enzyme_solutions[sym.Symbol(\"cps_m\")] = list(sol)[0]\n",
        "\n",
        "# Update solutions with free variable solutions\n",
        "enzyme_solutions = {\n",
        "    enzyme_module_form: sym.simplify(solution.subs(enzyme_solutions))\n",
        "    for enzyme_module_form, solution in enzyme_solutions.items()}\n",
        "\n",
        "args = set()\n",
        "for sol in enzyme_solutions.values():\n",
        "    args.update(sol.atoms(sym.Symbol))\n",
        "print(\"\\n\", args)"
      ],
      "execution_count": 127,
      "outputs": [
        {
          "output_type": "stream",
          "text": [
            "Enzyme Net Flux Equation\n",
            "------------------------\n",
            "-cps_NHA_m⋅kf_CPS + v_CPS\n",
            "\n",
            " {Keq_CPS_H, Keq_CPS_A, v_CPS, kf_CPS_H, kf_CPS, kf_CPS_N, Keq_CPS_N, kf_CPS_A}\n"
          ],
          "name": "stdout"
        }
      ]
    },
    {
      "cell_type": "markdown",
      "metadata": {
        "id": "rKBhFiCnPE68"
      },
      "source": [
        "### Numerical values"
      ]
    },
    {
      "cell_type": "markdown",
      "metadata": {
        "id": "d7MtZBg28RO3"
      },
      "source": [
        "Km_NH4 = 1 (mM)\n",
        "\n",
        "Km_HCO3 = 4\n",
        "\n",
        "Km_ATP = 0.5\n",
        "\n",
        "Ka_NAG = 0.14\n"
      ]
    },
    {
      "cell_type": "code",
      "metadata": {
        "colab": {
          "base_uri": "https://localhost:8080/"
        },
        "id": "XOtHO0fm14Ak",
        "outputId": "5fe2361c-f06a-4b00-9163-4df4a123a8a1"
      },
      "source": [
        "numerical_values = {}\n",
        "\n",
        "# Get ligand IDs and parameter IDs\n",
        "ligand_ids = sorted([str(ligand) for ligand in CPS.enzyme_module_ligands])\n",
        "parameter_ids = [\"_\".join((CPS.id, abbrev)) for abbrev in abbreviations + [\"L\"]]\n",
        "print(\"Ligand IDs: \" + str(ligand_ids))\n",
        "print(\"Parameter IDs: \" + str(parameter_ids))\n",
        "\n",
        "# Get the steady state flux value and add to numerical values\n",
        "CPS.enzyme_rate = model.reactions.get_by_id(CPS.id).steady_state_flux\n",
        "numerical_values.update({CPS.enzyme_flux_symbol_str: CPS.enzyme_rate})\n",
        "\n",
        "# Get the steady state concentration values and add to numerical values\n",
        "initial_conditions = {\n",
        "    str(ligand): model.initial_conditions[model.metabolites.get_by_id(ligand)]\n",
        "    for ligand in ligand_ids}\n",
        "\n",
        "# Define parameter values and add to numerical values\n",
        "# Because of the QEA, invert dissociation constants for Keq\n",
        "parameter_values = {\n",
        "    \"Keq_\" + parameter_id: value \n",
        "    for parameter_id, value in zip(parameter_ids, [1/1, 1/4, 1/0.5, 0.0011])}\n",
        "\n",
        "# Display numerical values\n",
        "print(\"\\nNumerical Values\\n----------------\")\n",
        "for k, v in numerical_values.items():\n",
        "    print(\"{0} = {1}\".format(k, v))"
      ],
      "execution_count": 128,
      "outputs": [
        {
          "output_type": "stream",
          "text": [
            "Ligand IDs: ['adp_m', 'atp', 'carb_phos_m', 'h', 'hco3_m', 'nh4_m', 'pi_m']\n",
            "Parameter IDs: ['CPS_N', 'CPS_H', 'CPS_A', 'CPS_L']\n",
            "\n",
            "Numerical Values\n",
            "----------------\n",
            "v_CPS = 5.391893031357447e-45\n"
          ],
          "name": "stdout"
        }
      ]
    },
    {
      "cell_type": "code",
      "metadata": {
        "colab": {
          "base_uri": "https://localhost:8080/"
        },
        "id": "pGm_PYmk2OLf",
        "outputId": "1cad1fc2-dad5-436a-81fd-06d068c8845b"
      },
      "source": [
        "# Match abbreviations to their corresponding ligands\n",
        "abbreviation_dict = {\"CPS_N\": \"nh4_m\", \"CPS_H\": \"hco3_m\", \"CPS_A\": \"atp\", \"CPS_L\": \"\"}\n",
        "\n",
        "k2K = {sym.Symbol(\"kr_\" + p): sym.Symbol(\"kf_\" + p)*sym.Symbol(\"K_\" + p) for p in abbreviation_dict.keys()}\n",
        "enzyme_solutions = {met: sym.simplify(Keq2k(solution).subs(enzyme_solutions).subs(k2K))\n",
        "                    for met, solution in enzyme_solutions.items()}\n",
        "K_values = dict(zip([\"K_\" + p for p in abbreviation_dict], [1, 4, 0.5, 0.0011]))\n",
        "\n",
        "for abbrev, ligand_id in abbreviation_dict.items():\n",
        "    K_str = \"K_\" + abbrev\n",
        "    if ligand_id:\n",
        "        numerical_value = K_values[K_str]/initial_conditions[ligand_id]\n",
        "    else:\n",
        "        numerical_value = 1/K_values[K_str]\n",
        "    numerical_values[sym.Symbol(K_str)] = numerical_value\n",
        "    \n",
        "enzyme_solutions = {met: sym.simplify(solution.subs(numerical_values))\n",
        "                    for met, solution in enzyme_solutions.items()}\n",
        "\n",
        "# Display numerical values\n",
        "print(\"\\nNumerical Values\\n----------------\")\n",
        "for k, v in numerical_values.items():\n",
        "    print(\"{0} = {1}\".format(k, v))"
      ],
      "execution_count": 129,
      "outputs": [
        {
          "output_type": "stream",
          "text": [
            "\n",
            "Numerical Values\n",
            "----------------\n",
            "v_CPS = 5.391893031357447e-45\n",
            "K_CPS_N = 8.439842309188784e+45\n",
            "K_CPS_H = 0.1635222696891032\n",
            "K_CPS_A = 0.507872016251904\n",
            "K_CPS_L = 909.090909090909\n"
          ],
          "name": "stdout"
        }
      ]
    },
    {
      "cell_type": "code",
      "metadata": {
        "colab": {
          "base_uri": "https://localhost:8080/"
        },
        "id": "HXv5o82Q4wWs",
        "outputId": "ffa52ad6-96bb-4d9c-8c54-e616e8814541"
      },
      "source": [
        "# Substitute values into equations\n",
        "enzyme_solutions = {\n",
        "    enzyme_module_form: sym.simplify(solution.subs(numerical_values))\n",
        "    for enzyme_module_form, solution in enzyme_solutions.items()}\n",
        "\n",
        "args = set()\n",
        "for sol in enzyme_solutions.values():\n",
        "    args.update(sol.atoms(sym.Symbol))\n",
        "print(args)"
      ],
      "execution_count": 130,
      "outputs": [
        {
          "output_type": "stream",
          "text": [
            "{kf_CPS_N, kf_CPS_A, kf_CPS_H, kf_CPS}\n"
          ],
          "name": "stdout"
        }
      ]
    },
    {
      "cell_type": "markdown",
      "metadata": {
        "id": "jIfVgZSjPMhu"
      },
      "source": [
        "### Determine rate constants"
      ]
    },
    {
      "cell_type": "code",
      "metadata": {
        "colab": {
          "base_uri": "https://localhost:8080/"
        },
        "id": "ofGxNYux8p2x",
        "outputId": "51b331e2-28b9-46e0-b573-a9c18ea3c84c"
      },
      "source": [
        "sym.pprint(CPS.enzyme_concentration_total_equation)"
      ],
      "execution_count": 131,
      "outputs": [
        {
          "output_type": "stream",
          "text": [
            "cps_NHA_m(t) + cps_NH_m(t) + cps_N_m(t) + cpsₘ(t)\n"
          ],
          "name": "stdout"
        }
      ]
    },
    {
      "cell_type": "code",
      "metadata": {
        "colab": {
          "base_uri": "https://localhost:8080/"
        },
        "id": "IgDHDY9H8s34",
        "outputId": "e4eb04a7-5ef6-463a-c159-6a2709a1c976"
      },
      "source": [
        "CPS.enzyme_concentration_total = 40\n",
        "print(CPS.enzyme_concentration_total)"
      ],
      "execution_count": 132,
      "outputs": [
        {
          "output_type": "stream",
          "text": [
            "40\n"
          ],
          "name": "stdout"
        }
      ]
    },
    {
      "cell_type": "code",
      "metadata": {
        "colab": {
          "base_uri": "https://localhost:8080/"
        },
        "id": "s327qZbU8v8t",
        "outputId": "b2fd7d8d-dc18-4c8f-c497-9e5a99f6d11e"
      },
      "source": [
        "enzyme_total_constraint = abs(strip_time(CPS.enzyme_concentration_total_error(use_values=False)))\n",
        "sym.pprint(enzyme_total_constraint)"
      ],
      "execution_count": 133,
      "outputs": [
        {
          "output_type": "stream",
          "text": [
            "│-CPS_Total + cps_NHA_m + cps_NH_m + cps_N_m + cpsₘ│\n"
          ],
          "name": "stdout"
        }
      ]
    },
    {
      "cell_type": "code",
      "metadata": {
        "colab": {
          "base_uri": "https://localhost:8080/"
        },
        "id": "X7YUJktE8zwD",
        "outputId": "7f131857-a52e-4a55-8033-b0c7eb24db61"
      },
      "source": [
        "# Substitute value for enzyme concentration total\n",
        "enzyme_total_constraint = enzyme_total_constraint.subs({CPS.enzyme_total_symbol_str: CPS.enzyme_concentration_total})\n",
        "# Substitute solutions into constraint and simplify\n",
        "enzyme_total_constraint = sym.simplify(enzyme_total_constraint.subs(enzyme_solutions))\n",
        "sym.pprint(enzyme_total_constraint)"
      ],
      "execution_count": 134,
      "outputs": [
        {
          "output_type": "stream",
          "text": [
            "│      5.39189303135745e-45   45.5067269326707   7.44136327415256   3.77926016\n",
            "│-40 + ──────────────────── + ──────────────── + ──────────────── + ──────────\n",
            "│            kf_CPS_N             kf_CPS_H           kf_CPS_A            kf_CP\n",
            "\n",
            "970673│\n",
            "──────│\n",
            "S     │\n"
          ],
          "name": "stdout"
        }
      ]
    },
    {
      "cell_type": "code",
      "metadata": {
        "id": "FaTpfPLD87Q9"
      },
      "source": [
        "# Create a sorted tuple of the arguments to ensure the input format does not change\n",
        "args = tuple(sorted([str(arg) for arg in list(args)]))\n",
        "# Create the objective function as a lambda function\n",
        "objective_function = lambda x: sym.lambdify(args, enzyme_total_constraint)(*x)"
      ],
      "execution_count": 135,
      "outputs": []
    },
    {
      "cell_type": "code",
      "metadata": {
        "id": "ECjaGamT8-Ot"
      },
      "source": [
        "# Set the values for the constraint bounds\n",
        "r_T_lb, r_T_ub = (0.01, 0.015)\n",
        "# Make a symbolic expression for enzyme fraction.\n",
        "r_T_expr = CPS.make_enzyme_fraction(\n",
        "    categorized_attr=\"forms\", top=\"Relaxed\", bottom=\"Equation\",\n",
        "    use_values=False)\n",
        "# Substitute solutions into the expression to make\n",
        "# solely dependent on the rate constants\n",
        "r_T_expr = sym.simplify(strip_time(r_T_expr).subs(enzyme_solutions))\n",
        "\n",
        "# Make lambda functions for the T fraction constraint\n",
        "r_T_lb_constraint = lambda x: sym.lambdify(args, r_T_expr - r_T_lb)(*x)\n",
        "r_T_ub_constraint = lambda x: sym.lambdify(args, r_T_ub - r_T_expr)(*x)"
      ],
      "execution_count": 136,
      "outputs": []
    },
    {
      "cell_type": "code",
      "metadata": {
        "colab": {
          "base_uri": "https://localhost:8080/"
        },
        "id": "C7aTLtC89CTW",
        "outputId": "d114a3c4-c2be-46ed-82af-e6ec3d9507e2"
      },
      "source": [
        "print(\"Ordered Args: {0}\\n\".format(str(args)))\n",
        "# Set arguments for minimization\n",
        "kf_bounds = ((1e2, 1e8), (1e2, 1e8), (1e2, 1e8), (1e2, 1e8))\n",
        "initial_guess = [\n",
        "    3.07e5,\n",
        "    2e5,\n",
        "    1e6,\n",
        "    2e6]\n",
        "\n",
        "# Find a feasible solution\n",
        "sol = optimize.minimize(\n",
        "    objective_function, x0=initial_guess,\n",
        "    method=\"trust-constr\",\n",
        "    bounds=kf_bounds,\n",
        "    options={\"gtol\": 1e-20, \"xtol\": 1e-20, \"maxiter\": 1e4, \"disp\": True})\n",
        "\n",
        "# Check whether optimzation was successful\n",
        "print(\"\\nOptimization Success: {0}\".format(sol.success))\n",
        "if sol.success:\n",
        "    # Update the paramter values dictionary with the feasible solution\n",
        "    parameter_values.update(dict(zip(args, [round(x) for x in sol.x])))\n",
        "    print(\"Optimization Optimality: {0:.4e}\".format(sol.optimality))\n",
        "    print(\"Parameter Solutions: {:}\".format(str({arg: parameter_values[arg] for arg in args})))\n",
        "    # Plug solutions back into constraints for validation\n",
        "    print(\"Optimization Error: {0:.4e}\".format(enzyme_total_constraint.subs(parameter_values)))"
      ],
      "execution_count": 137,
      "outputs": [
        {
          "output_type": "stream",
          "text": [
            "Ordered Args: ('kf_CPS', 'kf_CPS_A', 'kf_CPS_H', 'kf_CPS_N')\n",
            "\n"
          ],
          "name": "stdout"
        },
        {
          "output_type": "stream",
          "text": [
            "/usr/local/lib/python3.7/dist-packages/scipy/optimize/_hessian_update_strategy.py:187 \u001b[1;31mUserWarning\u001b[0m: delta_grad == 0.0. Check if the approximated function is linear. If the function is linear better results can be obtained by defining the Hessian as zero instead of using quasi-Newton approximations.\n",
            "/usr/local/lib/python3.7/dist-packages/scipy/optimize/_hessian_update_strategy.py:187 \u001b[1;31mUserWarning\u001b[0m: delta_grad == 0.0. Check if the approximated function is linear. If the function is linear better results can be obtained by defining the Hessian as zero instead of using quasi-Newton approximations.\n",
            "/usr/local/lib/python3.7/dist-packages/scipy/optimize/_hessian_update_strategy.py:187 \u001b[1;31mUserWarning\u001b[0m: delta_grad == 0.0. Check if the approximated function is linear. If the function is linear better results can be obtained by defining the Hessian as zero instead of using quasi-Newton approximations.\n",
            "/usr/local/lib/python3.7/dist-packages/scipy/optimize/_hessian_update_strategy.py:187 \u001b[1;31mUserWarning\u001b[0m: delta_grad == 0.0. Check if the approximated function is linear. If the function is linear better results can be obtained by defining the Hessian as zero instead of using quasi-Newton approximations.\n",
            "/usr/local/lib/python3.7/dist-packages/scipy/optimize/_hessian_update_strategy.py:187 \u001b[1;31mUserWarning\u001b[0m: delta_grad == 0.0. Check if the approximated function is linear. If the function is linear better results can be obtained by defining the Hessian as zero instead of using quasi-Newton approximations.\n"
          ],
          "name": "stderr"
        },
        {
          "output_type": "stream",
          "text": [
            "`xtol` termination condition is satisfied.\n",
            "Number of iterations: 71, function evaluations: 40, CG iterations: 57, optimality: 1.86e-10, constraint violation: 0.00e+00, execution time: 0.32 s.\n",
            "\n",
            "Optimization Success: True\n",
            "Optimization Optimality: 1.8597e-10\n",
            "Parameter Solutions: {'kf_CPS': 307000, 'kf_CPS_A': 200000, 'kf_CPS_H': 1000000, 'kf_CPS_N': 2000000}\n",
            "Optimization Error: 4.0000e+1\n"
          ],
          "name": "stdout"
        },
        {
          "output_type": "stream",
          "text": [
            "/usr/local/lib/python3.7/dist-packages/scipy/optimize/_hessian_update_strategy.py:187 \u001b[1;31mUserWarning\u001b[0m: delta_grad == 0.0. Check if the approximated function is linear. If the function is linear better results can be obtained by defining the Hessian as zero instead of using quasi-Newton approximations.\n",
            "/usr/local/lib/python3.7/dist-packages/scipy/optimize/_hessian_update_strategy.py:187 \u001b[1;31mUserWarning\u001b[0m: delta_grad == 0.0. Check if the approximated function is linear. If the function is linear better results can be obtained by defining the Hessian as zero instead of using quasi-Newton approximations.\n"
          ],
          "name": "stderr"
        }
      ]
    },
    {
      "cell_type": "code",
      "metadata": {
        "colab": {
          "base_uri": "https://localhost:8080/"
        },
        "id": "66ji4ZS29I6y",
        "outputId": "5936501f-8606-42f9-9e46-3e6d25c83d97"
      },
      "source": [
        "# Display numerical values\n",
        "for k, v in parameter_values.items():\n",
        "    print(\"{0} = {1}\".format(k, v))"
      ],
      "execution_count": 138,
      "outputs": [
        {
          "output_type": "stream",
          "text": [
            "Keq_CPS_N = 1.0\n",
            "Keq_CPS_H = 0.25\n",
            "Keq_CPS_A = 2.0\n",
            "Keq_CPS_L = 0.0011\n",
            "kf_CPS = 307000\n",
            "kf_CPS_A = 200000\n",
            "kf_CPS_H = 1000000\n",
            "kf_CPS_N = 2000000\n"
          ],
          "name": "stdout"
        }
      ]
    },
    {
      "cell_type": "markdown",
      "metadata": {
        "id": "0GkueowHPSYz"
      },
      "source": [
        "### Solve steady state concentrations numerically"
      ]
    },
    {
      "cell_type": "code",
      "metadata": {
        "colab": {
          "base_uri": "https://localhost:8080/"
        },
        "id": "9AiRKBft9f0I",
        "outputId": "52c13996-66f9-418c-b356-37320d31a16e"
      },
      "source": [
        "# Substitute values into equations\n",
        "initial_conditions.update({\n",
        "    str(enzyme_module_form): float(sym.simplify(solution.subs(parameter_values)))\n",
        "    for enzyme_module_form, solution in enzyme_solutions.items()})\n",
        "\n",
        "for header, dictlist in zip([\"Ligand\", \"\\nEnzyme\"], [CPS.enzyme_module_ligands, CPS.enzyme_module_forms]):\n",
        "    header += \" Concentrations\"\n",
        "    print(\"\\n\".join([header, \"-\" * len(header)]))\n",
        "    for form in dictlist:\n",
        "        ic = initial_conditions[form.id]\n",
        "        print(\"{0} = {1}\".format(form.id, ic))"
      ],
      "execution_count": 139,
      "outputs": [
        {
          "output_type": "stream",
          "text": [
            "Ligand Concentrations\n",
            "---------------------\n",
            "nh4_m = 1.1848562607754664e-46\n",
            "hco3_m = 24.461500000000015\n",
            "atp = 0.9845000000000009\n",
            "h = 7.484530419439464e-37\n",
            "pi_m = 1.137\n",
            "adp_m = 2.5970328464212366e-46\n",
            "carb_phos_m = 0.029\n",
            "\n",
            "Enzyme Concentrations\n",
            "----------------------\n",
            "cps_m = 9.502383701583333e-05\n",
            "cps_N_m = 1.1258958821111763e-50\n",
            "cps_NH_m = 3.587930745401882e-50\n",
            "cps_NHA_m = 1.7563169483249012e-50\n"
          ],
          "name": "stdout"
        }
      ]
    },
    {
      "cell_type": "code",
      "metadata": {
        "id": "U5ZkhXQv9kB5"
      },
      "source": [
        "# Set initial conditions\n",
        "for met, concentration in initial_conditions.items():\n",
        "    CPS.metabolites.get_by_id(str(met)).ic = concentration\n",
        "\n",
        "# Add the custom parameters and values for kf and Keq to model\n",
        "CPS.custom_parameters.update(parameter_values)\n",
        "# CPS_L = CPS.enzyme_module_reactions.CPS_L\n",
        "# CPS_L.kf = CPS.custom_parameters.pop(CPS_L.kf_str)\n",
        "# CPS_L.Keq = CPS.custom_parameters.pop(CPS_L.Keq_str)\n",
        "\n",
        "# Set parameter values in reaction fields\n",
        "for group in CPS.enzyme_module_reactions_categorized:\n",
        "    if group.id == \"nh4_m_binding\":\n",
        "        param_id = \"CPS_N\"\n",
        "    elif group.id == \"hco3_m_binding\":\n",
        "        param_id = \"CPS_H\"\n",
        "    elif group.id == \"atp_binding\":\n",
        "        param_id = \"CPS_A\"\n",
        "    elif group.id == \"catalyzation\":\n",
        "        param_id = \"CPS\"\n",
        "    else:\n",
        "        continue\n",
        "    for reaction in group.members:\n",
        "        kf, Keq = (\"kf_\" + param_id, \"Keq_\" + param_id)\n",
        "        if kf in CPS.custom_parameters:\n",
        "            reaction.kf = CPS.custom_parameters[kf]\n",
        "        if Keq in CPS.custom_parameters:\n",
        "            reaction.Keq = CPS.custom_parameters[Keq]"
      ],
      "execution_count": 140,
      "outputs": []
    },
    {
      "cell_type": "code",
      "metadata": {
        "colab": {
          "base_uri": "https://localhost:8080/",
          "height": 360
        },
        "id": "s5GCJ48E-iln",
        "outputId": "43867b89-3a2e-4351-da1c-9cc3dea602c5"
      },
      "source": [
        "CPS.update_S(array_type=\"DataFrame\", dtype=int)"
      ],
      "execution_count": 141,
      "outputs": [
        {
          "output_type": "execute_result",
          "data": {
            "text/html": [
              "<div>\n",
              "<style scoped>\n",
              "    .dataframe tbody tr th:only-of-type {\n",
              "        vertical-align: middle;\n",
              "    }\n",
              "\n",
              "    .dataframe tbody tr th {\n",
              "        vertical-align: top;\n",
              "    }\n",
              "\n",
              "    .dataframe thead th {\n",
              "        text-align: right;\n",
              "    }\n",
              "</style>\n",
              "<table border=\"1\" class=\"dataframe\">\n",
              "  <thead>\n",
              "    <tr style=\"text-align: right;\">\n",
              "      <th></th>\n",
              "      <th>CPS_1</th>\n",
              "      <th>CPS_2</th>\n",
              "      <th>CPS_3</th>\n",
              "      <th>CPS_4</th>\n",
              "    </tr>\n",
              "  </thead>\n",
              "  <tbody>\n",
              "    <tr>\n",
              "      <th>nh4_m</th>\n",
              "      <td>-1</td>\n",
              "      <td>0</td>\n",
              "      <td>0</td>\n",
              "      <td>0</td>\n",
              "    </tr>\n",
              "    <tr>\n",
              "      <th>hco3_m</th>\n",
              "      <td>0</td>\n",
              "      <td>-1</td>\n",
              "      <td>0</td>\n",
              "      <td>0</td>\n",
              "    </tr>\n",
              "    <tr>\n",
              "      <th>atp</th>\n",
              "      <td>0</td>\n",
              "      <td>0</td>\n",
              "      <td>-2</td>\n",
              "      <td>0</td>\n",
              "    </tr>\n",
              "    <tr>\n",
              "      <th>h</th>\n",
              "      <td>0</td>\n",
              "      <td>0</td>\n",
              "      <td>0</td>\n",
              "      <td>2</td>\n",
              "    </tr>\n",
              "    <tr>\n",
              "      <th>pi_m</th>\n",
              "      <td>0</td>\n",
              "      <td>0</td>\n",
              "      <td>0</td>\n",
              "      <td>1</td>\n",
              "    </tr>\n",
              "    <tr>\n",
              "      <th>adp_m</th>\n",
              "      <td>0</td>\n",
              "      <td>0</td>\n",
              "      <td>0</td>\n",
              "      <td>2</td>\n",
              "    </tr>\n",
              "    <tr>\n",
              "      <th>carb_phos_m</th>\n",
              "      <td>0</td>\n",
              "      <td>0</td>\n",
              "      <td>0</td>\n",
              "      <td>1</td>\n",
              "    </tr>\n",
              "    <tr>\n",
              "      <th>cps_m</th>\n",
              "      <td>-1</td>\n",
              "      <td>0</td>\n",
              "      <td>0</td>\n",
              "      <td>1</td>\n",
              "    </tr>\n",
              "    <tr>\n",
              "      <th>cps_N_m</th>\n",
              "      <td>1</td>\n",
              "      <td>-1</td>\n",
              "      <td>0</td>\n",
              "      <td>0</td>\n",
              "    </tr>\n",
              "    <tr>\n",
              "      <th>cps_NH_m</th>\n",
              "      <td>0</td>\n",
              "      <td>1</td>\n",
              "      <td>-1</td>\n",
              "      <td>0</td>\n",
              "    </tr>\n",
              "    <tr>\n",
              "      <th>cps_NHA_m</th>\n",
              "      <td>0</td>\n",
              "      <td>0</td>\n",
              "      <td>1</td>\n",
              "      <td>-1</td>\n",
              "    </tr>\n",
              "  </tbody>\n",
              "</table>\n",
              "</div>"
            ],
            "text/plain": [
              "             CPS_1  CPS_2  CPS_3  CPS_4\n",
              "nh4_m           -1      0      0      0\n",
              "hco3_m           0     -1      0      0\n",
              "atp              0      0     -2      0\n",
              "h                0      0      0      2\n",
              "pi_m             0      0      0      1\n",
              "adp_m            0      0      0      2\n",
              "carb_phos_m      0      0      0      1\n",
              "cps_m           -1      0      0      1\n",
              "cps_N_m          1     -1      0      0\n",
              "cps_NH_m         0      1     -1      0\n",
              "cps_NHA_m        0      0      1     -1"
            ]
          },
          "metadata": {
            "tags": []
          },
          "execution_count": 141
        }
      ]
    },
    {
      "cell_type": "markdown",
      "metadata": {
        "id": "F1mHPQSLPinx"
      },
      "source": [
        "## Module validation"
      ]
    },
    {
      "cell_type": "code",
      "metadata": {
        "colab": {
          "base_uri": "https://localhost:8080/"
        },
        "id": "KVzj7jHT_IFd",
        "outputId": "fd6664f6-dbf7-4eec-8ced-c8aa7b14a081"
      },
      "source": [
        "qcqa_model(CPS, parameters=True, concentrations=True, \n",
        "           fluxes=False, superfluous=True, elemental=True)"
      ],
      "execution_count": 142,
      "outputs": [
        {
          "output_type": "stream",
          "text": [
            "╒══════════════════════════════════════════════╕\n",
            "│ MODEL ID: CPS                                │\n",
            "│ SIMULATABLE: True                            │\n",
            "│ PARAMETERS NUMERICALY CONSISTENT: True       │\n",
            "╞══════════════════════════════════════════════╡\n",
            "│ ============================================ │\n",
            "│             CONSISTENCY CHECKS               │\n",
            "│ ============================================ │\n",
            "│ Elemental                                    │\n",
            "│ ------------------------------               │\n",
            "│ CPS_4: {charge: -1.0; H: -1.0}               │\n",
            "│ ============================================ │\n",
            "╘══════════════════════════════════════════════╛\n"
          ],
          "name": "stdout"
        }
      ]
    },
    {
      "cell_type": "markdown",
      "metadata": {
        "id": "lumnLuBWPwt2"
      },
      "source": [
        "### Constraint satisfaction and error values"
      ]
    },
    {
      "cell_type": "code",
      "metadata": {
        "colab": {
          "base_uri": "https://localhost:8080/"
        },
        "id": "OS_7Lmlk_M-O",
        "outputId": "2e1e28f9-3e50-4879-a761-5fcceffcc3ae"
      },
      "source": [
        "t_fraction = CPS.make_enzyme_fraction(\"forms\", top=\"Relaxed\",\n",
        "                                      bottom=\"Equation\", use_values=True)\n",
        "print(\"Enzyme T-fraction: {:.4f}\".format(t_fraction))\n",
        "\n",
        "print(\"Concentration Absolute Error: {0:.4e}\".format(\n",
        "    abs(CPS.enzyme_concentration_total_error(use_values=True))))\n",
        "print(\"Flux Absolute Error: {0:.4e}\".format(\n",
        "    abs(CPS.enzyme_rate_error(use_values=True))))"
      ],
      "execution_count": 143,
      "outputs": [
        {
          "output_type": "stream",
          "text": [
            "Enzyme T-fraction: 1.0000\n",
            "Concentration Absolute Error: 4.0000e+01\n",
            "Flux Absolute Error: 0.0000e+00\n"
          ],
          "name": "stdout"
        }
      ]
    },
    {
      "cell_type": "markdown",
      "metadata": {
        "id": "i17tEtl1P3TM"
      },
      "source": [
        "### Add enzyme module to mass model"
      ]
    },
    {
      "cell_type": "code",
      "metadata": {
        "colab": {
          "base_uri": "https://localhost:8080/",
          "height": 234
        },
        "id": "E9qvpboj_S8E",
        "outputId": "b6806080-3fc2-4982-9862-29db4f975aac"
      },
      "source": [
        "# Load and merge main model with CPS module\n",
        "# Remove the CPS MassReaction, then merge the EnzymeModule into the MassModel\n",
        "model.remove_reactions([model.reactions.get_by_id(\"CPS\")])\n",
        "model_CPS = model.merge(CPS)\n",
        "model_CPS"
      ],
      "execution_count": 144,
      "outputs": [
        {
          "output_type": "execute_result",
          "data": {
            "text/html": [
              "\n",
              "            <table>\n",
              "                <tr>\n",
              "                    <td><strong>Name</strong></td><td>Urea_Cycle</td>\n",
              "                </tr><tr>\n",
              "                    <td><strong>Memory address</strong></td><td>0x07f01765facd0</td>\n",
              "                </tr><tr>\n",
              "                    <td><strong>Stoichiometric Matrix</strong></td>\n",
              "                    <td>21x20</td>\n",
              "                </tr><tr>\n",
              "                    <td><strong>Matrix Rank</strong></td>\n",
              "                    <td>19</td>\n",
              "                </tr><tr>\n",
              "                    <td><strong>Number of metabolites</strong></td>\n",
              "                    <td>21</td>\n",
              "                </tr><tr>\n",
              "                    <td><strong>Initial conditions defined</strong></td>\n",
              "                    <td>21/21</td>\n",
              "                </tr><tr>\n",
              "                    <td><strong>Number of reactions</strong></td>\n",
              "                    <td>20</td>\n",
              "                </tr><tr>\n",
              "                    <td><strong>Number of genes</strong></td>\n",
              "                    <td>0</td>\n",
              "                </tr><tr>\n",
              "                    <td><strong>Number of enzyme modules</strong></td>\n",
              "                    <td>1</td>\n",
              "                </tr><tr>\n",
              "                    <td><strong>Number of groups</strong></td>\n",
              "                    <td>8</td>\n",
              "                </tr><tr>\n",
              "                    <td><strong>Objective expression</strong></td>\n",
              "                    <td>0</td>\n",
              "                </tr><tr>\n",
              "                    <td><strong>Compartments</strong></td>\n",
              "                    <td>mitochondria, both, cytosol</td>\n",
              "                </tr>\n",
              "            </table>\n",
              "        "
            ],
            "text/plain": [
              "<MassModel Urea_Cycle at 0x7f01765facd0>"
            ]
          },
          "metadata": {
            "tags": []
          },
          "execution_count": 144
        }
      ]
    },
    {
      "cell_type": "code",
      "metadata": {
        "id": "fVDAwiiL_h7B",
        "colab": {
          "base_uri": "https://localhost:8080/",
          "height": 528
        },
        "outputId": "7f84e397-44a1-495f-baec-b8865f54a291"
      },
      "source": [
        "print(str(model_CPS.enzyme_modules) + \"\\n\")\n",
        "print(\"Attribute Accessors:\\n-------------------\\n\" + \"\\n\".join(list(\n",
        "    model_CPS.enzyme_modules.CPS.keys())) + \"\\n\")\n",
        "model_CPS.enzyme_modules.CPS"
      ],
      "execution_count": 145,
      "outputs": [
        {
          "output_type": "stream",
          "text": [
            "[<EnzymeModuleDict CPS at 0x7f0173305200>]\n",
            "\n",
            "Attribute Accessors:\n",
            "-------------------\n",
            "id\n",
            "name\n",
            "subsystem\n",
            "enzyme_module_ligands\n",
            "enzyme_module_forms\n",
            "enzyme_module_reactions\n",
            "enzyme_module_ligands_categorized\n",
            "enzyme_module_forms_categorized\n",
            "enzyme_module_reactions_categorized\n",
            "enzyme_concentration_total\n",
            "enzyme_rate\n",
            "enzyme_concentration_total_equation\n",
            "enzyme_rate_equation\n",
            "S\n",
            "model\n",
            "\n"
          ],
          "name": "stdout"
        },
        {
          "output_type": "execute_result",
          "data": {
            "text/html": [
              "\n",
              "            <table>\n",
              "                <tr>\n",
              "                    <td><strong>Name</strong></td><td>CPS</td>\n",
              "                </tr><tr>\n",
              "                    <td><strong>Memory address</strong></td><td>0x07f0173305200</td>\n",
              "                </tr><tr>\n",
              "                    <td><strong>Stoichiometric Matrix</strong></td>\n",
              "                    <td>11x4</td>\n",
              "                </tr><tr>\n",
              "                    <td><strong>Matrix Rank</strong></td>\n",
              "                    <td>4</td>\n",
              "                </tr><tr>\n",
              "                    <td><strong>Subsystem</strong></td>\n",
              "                    <td>Urea_Cycle</td>\n",
              "                </tr><tr>\n",
              "                    <td><strong>Number of Ligands</strong></td>\n",
              "                    <td>7</td>\n",
              "                </tr><tr>\n",
              "                    <td><strong>Number of EnzymeForms</strong></td>\n",
              "                    <td>4</td>\n",
              "                </tr><tr>\n",
              "                    <td><strong>Number of EnzymeModuleReactions</strong></td>\n",
              "                    <td>4</td>\n",
              "                </tr><tr>\n",
              "                    <td><strong>Enzyme Concentration Total</strong></td>\n",
              "                    <td>40</td>\n",
              "                </tr><tr>\n",
              "                    <td><strong>Enzyme Net Flux</strong></td>\n",
              "                    <td>5.391893031357447e-45</td>\n",
              "                </tr>\n",
              "            </table>\n",
              "        "
            ],
            "text/plain": [
              "EnzymeModuleDict([('id', 'CPS'),\n",
              "                  ('name', 'Ammonia-dependent carbamoyl-phosphate synthase'),\n",
              "                  ('subsystem', 'Urea_Cycle'),\n",
              "                  ('enzyme_module_ligands',\n",
              "                   [<MassMetabolite nh4_m at 0x7f0176451490>,\n",
              "                    <MassMetabolite hco3_m at 0x7f01734910d0>,\n",
              "                    <MassMetabolite atp at 0x7f0176451650>,\n",
              "                    <MassMetabolite h at 0x7f01764514d0>,\n",
              "                    <MassMetabolite pi_m at 0x7f01765efe50>,\n",
              "                    <MassMetabolite adp_m at 0x7f01765ef510>,\n",
              "                    <MassMetabolite carb_phos_m at 0x7f01765ef410>]),\n",
              "                  ('enzyme_module_forms',\n",
              "                   [<EnzymeModuleForm cps_m at 0x7f01730d2650>,\n",
              "                    <EnzymeModuleForm cps_N_m at 0x7f01731b2810>,\n",
              "                    <EnzymeModuleForm cps_NH_m at 0x7f01731b2dd0>,\n",
              "                    <EnzymeModuleForm cps_NHA_m at 0x7f01731b2590>]),\n",
              "                  ('enzyme_module_reactions',\n",
              "                   [<EnzymeModuleReaction CPS_1 at 0x7f01730d2fd0>,\n",
              "                    <EnzymeModuleReaction CPS_2 at 0x7f01730d2090>,\n",
              "                    <EnzymeModuleReaction CPS_3 at 0x7f01731b2e90>,\n",
              "                    <EnzymeModuleReaction CPS_4 at 0x7f01731b2f10>]),\n",
              "                  ('enzyme_module_ligands_categorized',\n",
              "                   [<Group Substrates at 0x7f01730d29d0>,\n",
              "                    <Group Cofactors at 0x7f01730d2f10>,\n",
              "                    <Group Products at 0x7f01730dd690>]),\n",
              "                  ('enzyme_module_forms_categorized',\n",
              "                   [<Group Relaxed at 0x7f017312ec10>]),\n",
              "                  ('enzyme_module_reactions_categorized',\n",
              "                   [<Group nh4_m_binding at 0x7f01732954d0>,\n",
              "                    <Group hco3_m_binding at 0x7f0173295e90>,\n",
              "                    <Group atp_binding at 0x7f01730e8dd0>,\n",
              "                    <Group catalyzation at 0x7f01730e8ed0>]),\n",
              "                  ('enzyme_concentration_total', 40),\n",
              "                  ('enzyme_rate', 5.391893031357447e-45),\n",
              "                  ('enzyme_concentration_total_equation',\n",
              "                   cps_NHA_m(t) + cps_NH_m(t) + cps_N_m(t) + cps_m(t)),\n",
              "                  ('enzyme_rate_equation', kf_CPS*cps_NHA_m(t)),\n",
              "                  ('S',              CPS_1  CPS_2  CPS_3  CPS_4\n",
              "                   nh4_m           -1      0      0      0\n",
              "                   hco3_m           0     -1      0      0\n",
              "                   atp              0      0     -2      0\n",
              "                   h                0      0      0      2\n",
              "                   pi_m             0      0      0      1\n",
              "                   adp_m            0      0      0      2\n",
              "                   carb_phos_m      0      0      0      1\n",
              "                   cps_m           -1      0      0      1\n",
              "                   cps_N_m          1     -1      0      0\n",
              "                   cps_NH_m         0      1     -1      0\n",
              "                   cps_NHA_m        0      0      1     -1),\n",
              "                  ('model', <MassModel Urea_Cycle at 0x7f01765facd0>)])"
            ]
          },
          "metadata": {
            "tags": []
          },
          "execution_count": 145
        }
      ]
    },
    {
      "cell_type": "markdown",
      "metadata": {
        "id": "dW8Z7IEpQI2Q"
      },
      "source": [
        "### Validate steady state"
      ]
    },
    {
      "cell_type": "code",
      "metadata": {
        "colab": {
          "base_uri": "https://localhost:8080/",
          "height": 447
        },
        "id": "UOM4Qeq2QGXT",
        "outputId": "300ab5eb-dcd5-4cb2-d752-af9c000815c0"
      },
      "source": [
        "# Setup simulation object, ensure model is at steady state\n",
        "sim = Simulation(model_CPS, verbose=True)\n",
        "sim.find_steady_state(model_CPS, strategy=\"simulate\",\n",
        "                      update_values=True, verbose=True,\n",
        "                      tfinal=1e4, steps=1e6)\n",
        "\n",
        "# Simulate from 0 to 1000 with 10001 points in the output\n",
        "conc_sol, flux_sol = sim.simulate(\n",
        "    model_CPS,time=(0, 1e3, 1e4 + 1))\n",
        "# Quickly render and display time profiles\n",
        "conc_sol.view_time_profile()"
      ],
      "execution_count": 146,
      "outputs": [
        {
          "output_type": "stream",
          "text": [
            "Successfully loaded MassModel 'Urea_Cycle' into RoadRunner.\n",
            "Setting output selections\n",
            "Setting simulation values for 'Urea_Cycle'\n",
            "Setting output selections\n",
            "Getting time points\n",
            "Simulating 'Urea_Cycle'\n",
            "Found steady state for 'Urea_Cycle'.\n",
            "Updating 'Urea_Cycle' values\n",
            "Adding 'Urea_Cycle' simulation solutions to output\n"
          ],
          "name": "stdout"
        },
        {
          "output_type": "display_data",
          "data": {
            "image/png": "[encoded data removed]",
            "text/plain": [
              "<Figure size 432x288 with 1 Axes>"
            ]
          },
          "metadata": {
            "tags": [],
            "needs_background": "light"
          }
        }
      ]
    },
    {
      "cell_type": "code",
      "metadata": {
        "id": "e4yap0SQQbeE",
        "colab": {
          "base_uri": "https://localhost:8080/",
          "height": 315
        },
        "outputId": "16d177da-0fcf-412e-ee1c-c71f50f725a0"
      },
      "source": [
        "# Plot time profile of ammonium and urea\n",
        "plot_time_profile(\n",
        "    conc_sol, observable=[\"nh4_m\", \"carb_phos_m\", \"ornithine\", \"citrulline\", \"aspartate_c\", \"argi_suc_c\", \"urea_c\"], legend=\"right outside\", plot_function=\"semilogx\",\n",
        "    xlabel=\"Time\", ylabel=\"Concentration\",\n",
        "    title=(\"Concentration Solutions\", {\"size\": \"large\"}))"
      ],
      "execution_count": 147,
      "outputs": [
        {
          "output_type": "execute_result",
          "data": {
            "text/plain": [
              "<matplotlib.axes._subplots.AxesSubplot at 0x7f0175f2f810>"
            ]
          },
          "metadata": {
            "tags": []
          },
          "execution_count": 147
        },
        {
          "output_type": "display_data",
          "data": {
            "image/png": "[encoded data removed]",
            "text/plain": [
              "<Figure size 432x288 with 1 Axes>"
            ]
          },
          "metadata": {
            "tags": [],
            "needs_background": "light"
          }
        }
      ]
    },
    {
      "cell_type": "code",
      "metadata": {
        "colab": {
          "base_uri": "https://localhost:8080/",
          "height": 298
        },
        "id": "W1oB3zMKsERw",
        "outputId": "8f5094e1-d5d7-45c6-8b67-994ba8beed41"
      },
      "source": [
        "# Plot time profil for fluxes on log scale\n",
        "plot_time_profile(\n",
        "    flux_sol, legend=\"right outside\", \n",
        "    plot_function=\"semilogx\", \n",
        "    xlabel=\"Time [hr]\", ylabel=\"Flux [mM/hr]\", \n",
        "    title=(\"Flux Profile\", L_FONT));"
      ],
      "execution_count": 148,
      "outputs": [
        {
          "output_type": "display_data",
          "data": {
            "image/png": "[encoded data removed]",
            "text/plain": [
              "<Figure size 432x288 with 1 Axes>"
            ]
          },
          "metadata": {
            "tags": [],
            "needs_background": "light"
          }
        }
      ]
    },
    {
      "cell_type": "code",
      "metadata": {
        "id": "w7nXR6OqseAd"
      },
      "source": [
        ""
      ],
      "execution_count": null,
      "outputs": []
    }
  ]
}